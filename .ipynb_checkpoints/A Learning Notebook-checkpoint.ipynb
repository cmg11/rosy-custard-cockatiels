{
 "cells": [
  {
   "cell_type": "markdown",
   "metadata": {},
   "source": [
    "# Data Exploration\n",
    "\n",
    "\n",
    "Guide based [here](https://www.analyticsvidhya.com/blog/2016/01/guide-data-exploration/)\n",
    "\n",
    "also, python has a [`ggplot`](http://ggplot.yhathq.com/) package based on R\n",
    "- which i am currently finding useless but it's installed nonetheless\n",
    "\n",
    "[Harvard course](http://cs109.github.io/2014/pages/schedule.html)"
   ]
  },
  {
   "cell_type": "markdown",
   "metadata": {},
   "source": [
    "## A bunch of interesting data \n",
    "lives in the links [here](https://www.dataquest.io/blog/free-datasets-for-projects/)\n",
    "\n",
    "also some interesting stuff about `JSON` file type [here](https://blog.datafiniti.co/4-reasons-you-should-use-json-instead-of-csv-2cac362f1943#.ao8soha0g)\n",
    "- [JSON basics](http://codular.com/json)"
   ]
  },
  {
   "cell_type": "markdown",
   "metadata": {
    "collapsed": true
   },
   "source": [
    "There are different causes for missing variables. Depending on the cause, they should be treated differently.\n",
    "1. Missing at random\n",
    "  - this type of midding variable "
   ]
  },
  {
   "cell_type": "code",
   "execution_count": null,
   "metadata": {
    "collapsed": true
   },
   "outputs": [],
   "source": []
  }
 ],
 "metadata": {
  "anaconda-cloud": {},
  "kernelspec": {
   "display_name": "Python [conda root]",
   "language": "python",
   "name": "conda-root-py"
  },
  "language_info": {
   "codemirror_mode": {
    "name": "ipython",
    "version": 3
   },
   "file_extension": ".py",
   "mimetype": "text/x-python",
   "name": "python",
   "nbconvert_exporter": "python",
   "pygments_lexer": "ipython3",
   "version": "3.5.2"
  }
 },
 "nbformat": 4,
 "nbformat_minor": 1
}
