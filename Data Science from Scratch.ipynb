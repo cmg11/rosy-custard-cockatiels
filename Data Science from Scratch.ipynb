{
 "cells": [
  {
   "cell_type": "markdown",
   "metadata": {
    "nbpresent": {
     "id": "f8875e0e-1c37-4694-a2ca-83d09b3adb3f"
    }
   },
   "source": [
    "### Notebook based on 'A Complete Tutorial to Learn Data Science with Python from Scratch\n",
    "#### Analytics Vidhya\n",
    "\n",
    "Webpage stored locally [here](file:///C:/Users/danielle.leong/Desktop/sp.html): \n",
    "\n",
    "As of 01/09/2017 14:40 all packages have been updated via [awesome method](http://stackoverflow.com/questions/2720014/upgrading-all-packages-with-pip)."
   ]
  },
  {
   "cell_type": "code",
   "execution_count": 1,
   "metadata": {
    "collapsed": false,
    "nbpresent": {
     "id": "80d3d1fb-4d3f-4ca1-8f04-764bdae90ab9"
    }
   },
   "outputs": [
    {
     "name": "stdout",
     "output_type": "stream",
     "text": [
      "Populating the interactive namespace from numpy and matplotlib\n"
     ]
    }
   ],
   "source": [
    "%pylab inline\n",
    "# numpy as np\n",
    "# matplotlib as plt\n",
    "import pandas as pd"
   ]
  },
  {
   "cell_type": "code",
   "execution_count": 2,
   "metadata": {
    "collapsed": false,
    "nbpresent": {
     "id": "1e0139c3-ef9d-4a9d-ae5d-d307d9ca3e8a"
    }
   },
   "outputs": [],
   "source": [
    "df = pd.read_csv(\"C:/Users/danielle.leong/python/edu/train.csv\") # reading from csv"
   ]
  },
  {
   "cell_type": "code",
   "execution_count": 3,
   "metadata": {
    "collapsed": false,
    "nbpresent": {
     "id": "4f6dd743-2694-4739-84bd-ec1b75a27e89"
    },
    "scrolled": false
   },
   "outputs": [
    {
     "data": {
      "text/html": [
       "<div>\n",
       "<table border=\"1\" class=\"dataframe\">\n",
       "  <thead>\n",
       "    <tr style=\"text-align: right;\">\n",
       "      <th></th>\n",
       "      <th>Loan_ID</th>\n",
       "      <th>Gender</th>\n",
       "      <th>Married</th>\n",
       "      <th>Dependents</th>\n",
       "      <th>Education</th>\n",
       "      <th>Self_Employed</th>\n",
       "      <th>ApplicantIncome</th>\n",
       "      <th>CoapplicantIncome</th>\n",
       "      <th>LoanAmount</th>\n",
       "      <th>Loan_Amount_Term</th>\n",
       "      <th>Credit_History</th>\n",
       "      <th>Property_Area</th>\n",
       "      <th>Loan_Status</th>\n",
       "    </tr>\n",
       "  </thead>\n",
       "  <tbody>\n",
       "    <tr>\n",
       "      <th>0</th>\n",
       "      <td>LP001002</td>\n",
       "      <td>Male</td>\n",
       "      <td>No</td>\n",
       "      <td>0</td>\n",
       "      <td>Graduate</td>\n",
       "      <td>No</td>\n",
       "      <td>5849</td>\n",
       "      <td>0.0</td>\n",
       "      <td>NaN</td>\n",
       "      <td>360.0</td>\n",
       "      <td>1.0</td>\n",
       "      <td>Urban</td>\n",
       "      <td>Y</td>\n",
       "    </tr>\n",
       "    <tr>\n",
       "      <th>1</th>\n",
       "      <td>LP001003</td>\n",
       "      <td>Male</td>\n",
       "      <td>Yes</td>\n",
       "      <td>1</td>\n",
       "      <td>Graduate</td>\n",
       "      <td>No</td>\n",
       "      <td>4583</td>\n",
       "      <td>1508.0</td>\n",
       "      <td>128.0</td>\n",
       "      <td>360.0</td>\n",
       "      <td>1.0</td>\n",
       "      <td>Rural</td>\n",
       "      <td>N</td>\n",
       "    </tr>\n",
       "    <tr>\n",
       "      <th>2</th>\n",
       "      <td>LP001005</td>\n",
       "      <td>Male</td>\n",
       "      <td>Yes</td>\n",
       "      <td>0</td>\n",
       "      <td>Graduate</td>\n",
       "      <td>Yes</td>\n",
       "      <td>3000</td>\n",
       "      <td>0.0</td>\n",
       "      <td>66.0</td>\n",
       "      <td>360.0</td>\n",
       "      <td>1.0</td>\n",
       "      <td>Urban</td>\n",
       "      <td>Y</td>\n",
       "    </tr>\n",
       "    <tr>\n",
       "      <th>3</th>\n",
       "      <td>LP001006</td>\n",
       "      <td>Male</td>\n",
       "      <td>Yes</td>\n",
       "      <td>0</td>\n",
       "      <td>Not Graduate</td>\n",
       "      <td>No</td>\n",
       "      <td>2583</td>\n",
       "      <td>2358.0</td>\n",
       "      <td>120.0</td>\n",
       "      <td>360.0</td>\n",
       "      <td>1.0</td>\n",
       "      <td>Urban</td>\n",
       "      <td>Y</td>\n",
       "    </tr>\n",
       "    <tr>\n",
       "      <th>4</th>\n",
       "      <td>LP001008</td>\n",
       "      <td>Male</td>\n",
       "      <td>No</td>\n",
       "      <td>0</td>\n",
       "      <td>Graduate</td>\n",
       "      <td>No</td>\n",
       "      <td>6000</td>\n",
       "      <td>0.0</td>\n",
       "      <td>141.0</td>\n",
       "      <td>360.0</td>\n",
       "      <td>1.0</td>\n",
       "      <td>Urban</td>\n",
       "      <td>Y</td>\n",
       "    </tr>\n",
       "    <tr>\n",
       "      <th>5</th>\n",
       "      <td>LP001011</td>\n",
       "      <td>Male</td>\n",
       "      <td>Yes</td>\n",
       "      <td>2</td>\n",
       "      <td>Graduate</td>\n",
       "      <td>Yes</td>\n",
       "      <td>5417</td>\n",
       "      <td>4196.0</td>\n",
       "      <td>267.0</td>\n",
       "      <td>360.0</td>\n",
       "      <td>1.0</td>\n",
       "      <td>Urban</td>\n",
       "      <td>Y</td>\n",
       "    </tr>\n",
       "    <tr>\n",
       "      <th>6</th>\n",
       "      <td>LP001013</td>\n",
       "      <td>Male</td>\n",
       "      <td>Yes</td>\n",
       "      <td>0</td>\n",
       "      <td>Not Graduate</td>\n",
       "      <td>No</td>\n",
       "      <td>2333</td>\n",
       "      <td>1516.0</td>\n",
       "      <td>95.0</td>\n",
       "      <td>360.0</td>\n",
       "      <td>1.0</td>\n",
       "      <td>Urban</td>\n",
       "      <td>Y</td>\n",
       "    </tr>\n",
       "    <tr>\n",
       "      <th>7</th>\n",
       "      <td>LP001014</td>\n",
       "      <td>Male</td>\n",
       "      <td>Yes</td>\n",
       "      <td>3+</td>\n",
       "      <td>Graduate</td>\n",
       "      <td>No</td>\n",
       "      <td>3036</td>\n",
       "      <td>2504.0</td>\n",
       "      <td>158.0</td>\n",
       "      <td>360.0</td>\n",
       "      <td>0.0</td>\n",
       "      <td>Semiurban</td>\n",
       "      <td>N</td>\n",
       "    </tr>\n",
       "    <tr>\n",
       "      <th>8</th>\n",
       "      <td>LP001018</td>\n",
       "      <td>Male</td>\n",
       "      <td>Yes</td>\n",
       "      <td>2</td>\n",
       "      <td>Graduate</td>\n",
       "      <td>No</td>\n",
       "      <td>4006</td>\n",
       "      <td>1526.0</td>\n",
       "      <td>168.0</td>\n",
       "      <td>360.0</td>\n",
       "      <td>1.0</td>\n",
       "      <td>Urban</td>\n",
       "      <td>Y</td>\n",
       "    </tr>\n",
       "    <tr>\n",
       "      <th>9</th>\n",
       "      <td>LP001020</td>\n",
       "      <td>Male</td>\n",
       "      <td>Yes</td>\n",
       "      <td>1</td>\n",
       "      <td>Graduate</td>\n",
       "      <td>No</td>\n",
       "      <td>12841</td>\n",
       "      <td>10968.0</td>\n",
       "      <td>349.0</td>\n",
       "      <td>360.0</td>\n",
       "      <td>1.0</td>\n",
       "      <td>Semiurban</td>\n",
       "      <td>N</td>\n",
       "    </tr>\n",
       "  </tbody>\n",
       "</table>\n",
       "</div>"
      ],
      "text/plain": [
       "    Loan_ID Gender Married Dependents     Education Self_Employed  \\\n",
       "0  LP001002   Male      No          0      Graduate            No   \n",
       "1  LP001003   Male     Yes          1      Graduate            No   \n",
       "2  LP001005   Male     Yes          0      Graduate           Yes   \n",
       "3  LP001006   Male     Yes          0  Not Graduate            No   \n",
       "4  LP001008   Male      No          0      Graduate            No   \n",
       "5  LP001011   Male     Yes          2      Graduate           Yes   \n",
       "6  LP001013   Male     Yes          0  Not Graduate            No   \n",
       "7  LP001014   Male     Yes         3+      Graduate            No   \n",
       "8  LP001018   Male     Yes          2      Graduate            No   \n",
       "9  LP001020   Male     Yes          1      Graduate            No   \n",
       "\n",
       "   ApplicantIncome  CoapplicantIncome  LoanAmount  Loan_Amount_Term  \\\n",
       "0             5849                0.0         NaN             360.0   \n",
       "1             4583             1508.0       128.0             360.0   \n",
       "2             3000                0.0        66.0             360.0   \n",
       "3             2583             2358.0       120.0             360.0   \n",
       "4             6000                0.0       141.0             360.0   \n",
       "5             5417             4196.0       267.0             360.0   \n",
       "6             2333             1516.0        95.0             360.0   \n",
       "7             3036             2504.0       158.0             360.0   \n",
       "8             4006             1526.0       168.0             360.0   \n",
       "9            12841            10968.0       349.0             360.0   \n",
       "\n",
       "   Credit_History Property_Area Loan_Status  \n",
       "0             1.0         Urban           Y  \n",
       "1             1.0         Rural           N  \n",
       "2             1.0         Urban           Y  \n",
       "3             1.0         Urban           Y  \n",
       "4             1.0         Urban           Y  \n",
       "5             1.0         Urban           Y  \n",
       "6             1.0         Urban           Y  \n",
       "7             0.0     Semiurban           N  \n",
       "8             1.0         Urban           Y  \n",
       "9             1.0     Semiurban           N  "
      ]
     },
     "execution_count": 3,
     "metadata": {},
     "output_type": "execute_result"
    }
   ],
   "source": [
    "df.head(10)"
   ]
  },
  {
   "cell_type": "code",
   "execution_count": 4,
   "metadata": {
    "collapsed": false,
    "nbpresent": {
     "id": "e53a58ad-3bf2-467e-86ea-10b3787274b1"
    },
    "scrolled": true
   },
   "outputs": [
    {
     "data": {
      "text/html": [
       "<div>\n",
       "<table border=\"1\" class=\"dataframe\">\n",
       "  <thead>\n",
       "    <tr style=\"text-align: right;\">\n",
       "      <th></th>\n",
       "      <th>ApplicantIncome</th>\n",
       "      <th>CoapplicantIncome</th>\n",
       "      <th>LoanAmount</th>\n",
       "      <th>Loan_Amount_Term</th>\n",
       "      <th>Credit_History</th>\n",
       "    </tr>\n",
       "  </thead>\n",
       "  <tbody>\n",
       "    <tr>\n",
       "      <th>count</th>\n",
       "      <td>614.000000</td>\n",
       "      <td>614.000000</td>\n",
       "      <td>592.000000</td>\n",
       "      <td>600.00000</td>\n",
       "      <td>564.000000</td>\n",
       "    </tr>\n",
       "    <tr>\n",
       "      <th>mean</th>\n",
       "      <td>5403.459283</td>\n",
       "      <td>1621.245798</td>\n",
       "      <td>146.412162</td>\n",
       "      <td>342.00000</td>\n",
       "      <td>0.842199</td>\n",
       "    </tr>\n",
       "    <tr>\n",
       "      <th>std</th>\n",
       "      <td>6109.041673</td>\n",
       "      <td>2926.248369</td>\n",
       "      <td>85.587325</td>\n",
       "      <td>65.12041</td>\n",
       "      <td>0.364878</td>\n",
       "    </tr>\n",
       "    <tr>\n",
       "      <th>min</th>\n",
       "      <td>150.000000</td>\n",
       "      <td>0.000000</td>\n",
       "      <td>9.000000</td>\n",
       "      <td>12.00000</td>\n",
       "      <td>0.000000</td>\n",
       "    </tr>\n",
       "    <tr>\n",
       "      <th>25%</th>\n",
       "      <td>2877.500000</td>\n",
       "      <td>0.000000</td>\n",
       "      <td>100.000000</td>\n",
       "      <td>360.00000</td>\n",
       "      <td>1.000000</td>\n",
       "    </tr>\n",
       "    <tr>\n",
       "      <th>50%</th>\n",
       "      <td>3812.500000</td>\n",
       "      <td>1188.500000</td>\n",
       "      <td>128.000000</td>\n",
       "      <td>360.00000</td>\n",
       "      <td>1.000000</td>\n",
       "    </tr>\n",
       "    <tr>\n",
       "      <th>75%</th>\n",
       "      <td>5795.000000</td>\n",
       "      <td>2297.250000</td>\n",
       "      <td>168.000000</td>\n",
       "      <td>360.00000</td>\n",
       "      <td>1.000000</td>\n",
       "    </tr>\n",
       "    <tr>\n",
       "      <th>max</th>\n",
       "      <td>81000.000000</td>\n",
       "      <td>41667.000000</td>\n",
       "      <td>700.000000</td>\n",
       "      <td>480.00000</td>\n",
       "      <td>1.000000</td>\n",
       "    </tr>\n",
       "  </tbody>\n",
       "</table>\n",
       "</div>"
      ],
      "text/plain": [
       "       ApplicantIncome  CoapplicantIncome  LoanAmount  Loan_Amount_Term  \\\n",
       "count       614.000000         614.000000  592.000000         600.00000   \n",
       "mean       5403.459283        1621.245798  146.412162         342.00000   \n",
       "std        6109.041673        2926.248369   85.587325          65.12041   \n",
       "min         150.000000           0.000000    9.000000          12.00000   \n",
       "25%        2877.500000           0.000000  100.000000         360.00000   \n",
       "50%        3812.500000        1188.500000  128.000000         360.00000   \n",
       "75%        5795.000000        2297.250000  168.000000         360.00000   \n",
       "max       81000.000000       41667.000000  700.000000         480.00000   \n",
       "\n",
       "       Credit_History  \n",
       "count      564.000000  \n",
       "mean         0.842199  \n",
       "std          0.364878  \n",
       "min          0.000000  \n",
       "25%          1.000000  \n",
       "50%          1.000000  \n",
       "75%          1.000000  \n",
       "max          1.000000  "
      ]
     },
     "execution_count": 4,
     "metadata": {},
     "output_type": "execute_result"
    }
   ],
   "source": [
    "df.describe()"
   ]
  },
  {
   "cell_type": "code",
   "execution_count": 5,
   "metadata": {
    "collapsed": false,
    "nbpresent": {
     "id": "0a37b677-8f8b-41ca-9922-5eca217d87e8"
    }
   },
   "outputs": [
    {
     "data": {
      "text/plain": [
       "Semiurban    233\n",
       "Urban        202\n",
       "Rural        179\n",
       "Name: Property_Area, dtype: int64"
      ]
     },
     "execution_count": 5,
     "metadata": {},
     "output_type": "execute_result"
    }
   ],
   "source": [
    "df['Property_Area'].value_counts()"
   ]
  },
  {
   "cell_type": "code",
   "execution_count": 6,
   "metadata": {
    "collapsed": false,
    "nbpresent": {
     "id": "7f4d6e9e-66a0-443d-8270-7558e0701427"
    }
   },
   "outputs": [
    {
     "data": {
      "text/plain": [
       "<matplotlib.axes._subplots.AxesSubplot at 0x7e3f910>"
      ]
     },
     "execution_count": 6,
     "metadata": {},
     "output_type": "execute_result"
    },
    {
     "data": {
      "image/png": "[encoded data removed]",
      "text/plain": [
       "<matplotlib.figure.Figure at 0x7e3f0b0>"
      ]
     },
     "metadata": {},
     "output_type": "display_data"
    }
   ],
   "source": [
    "df['ApplicantIncome'].hist(bins=50) # histogram\n",
    "# using 50 bins as std...?"
   ]
  },
  {
   "cell_type": "code",
   "execution_count": 7,
   "metadata": {
    "collapsed": false,
    "nbpresent": {
     "id": "df616783-1849-463f-8a74-1b4b72725697"
    }
   },
   "outputs": [
    {
     "data": {
      "text/plain": [
       "<matplotlib.axes._subplots.AxesSubplot at 0x7ed07d0>"
      ]
     },
     "execution_count": 7,
     "metadata": {},
     "output_type": "execute_result"
    },
    {
     "data": {
      "image/png": "[encoded data removed]",
      "text/plain": [
       "<matplotlib.figure.Figure at 0x7eb7250>"
      ]
     },
     "metadata": {},
     "output_type": "display_data"
    }
   ],
   "source": [
    "df.boxplot(column='ApplicantIncome') # box and whisker\n",
    "# here outliers are indicated\n",
    "# outliers shown based on distance in terms of interquartile range (IQR)"
   ]
  },
  {
   "cell_type": "code",
   "execution_count": 8,
   "metadata": {
    "collapsed": false,
    "nbpresent": {
     "id": "c5dbb137-e5c1-49e2-aa64-e508e68e02e2"
    }
   },
   "outputs": [
    {
     "data": {
      "text/plain": [
       "<matplotlib.axes._subplots.AxesSubplot at 0x81093b0>"
      ]
     },
     "execution_count": 8,
     "metadata": {},
     "output_type": "execute_result"
    },
    {
     "data": {
      "image/png": "[encoded data removed]",
      "text/plain": [
       "<matplotlib.figure.Figure at 0x8145bf0>"
      ]
     },
     "metadata": {},
     "output_type": "display_data"
    }
   ],
   "source": [
    "df.boxplot(column='ApplicantIncome', by = 'Education')"
   ]
  },
  {
   "cell_type": "code",
   "execution_count": 9,
   "metadata": {
    "collapsed": false,
    "nbpresent": {
     "id": "1e2f63a1-a292-4f5f-bcd8-9666b219077c"
    }
   },
   "outputs": [
    {
     "data": {
      "text/plain": [
       "<matplotlib.axes._subplots.AxesSubplot at 0x8150830>"
      ]
     },
     "execution_count": 9,
     "metadata": {},
     "output_type": "execute_result"
    },
    {
     "data": {
      "image/png": "[encoded data removed]",
      "text/plain": [
       "<matplotlib.figure.Figure at 0x7f31670>"
      ]
     },
     "metadata": {},
     "output_type": "display_data"
    }
   ],
   "source": [
    "df['LoanAmount'].hist(bins=50)"
   ]
  },
  {
   "cell_type": "code",
   "execution_count": 10,
   "metadata": {
    "collapsed": false,
    "nbpresent": {
     "id": "50a9f5e6-fdde-4a5a-9928-f08951d4b956"
    }
   },
   "outputs": [
    {
     "data": {
      "text/plain": [
       "<matplotlib.axes._subplots.AxesSubplot at 0x7f31c50>"
      ]
     },
     "execution_count": 10,
     "metadata": {},
     "output_type": "execute_result"
    },
    {
     "data": {
      "image/png": "[encoded data removed]",
      "text/plain": [
       "<matplotlib.figure.Figure at 0x7fc2f70>"
      ]
     },
     "metadata": {},
     "output_type": "display_data"
    }
   ],
   "source": [
    "df.boxplot(column='LoanAmount')"
   ]
  },
  {
   "cell_type": "markdown",
   "metadata": {
    "nbpresent": {
     "id": "271035f2-eeac-47eb-b430-538934da4047"
    }
   },
   "source": [
    "The following cell will refer to [this](https://web.archive.org/web/20160509022507/http://www.analyticsvidhya.com/blog/2016/01/12-pandas-techniques-python-data-manipulation/) page, regarding methods for using Pandas module in python\n",
    "\n",
    "An archived page is used due to inability to scroll on current site hosted (?) who knows why...\n",
    "\n",
    "Anyhow, the goal is to create a pivot table like the one below, from excel:\n",
    "![Alt text](https://www.analyticsvidhya.com/wp-content/uploads/2016/01/10.-pivot_table3.png)\n"
   ]
  },
  {
   "cell_type": "markdown",
   "metadata": {
    "nbpresent": {
     "id": "022e391f-3152-4106-a06f-d2905448cfbf"
    }
   },
   "source": [
    "The code snippet below refers to *lambda*, a short function construct that takes on expression.\n",
    "\n",
    "Read more in Python 3.x documentation [here](https://docs.python.org/3/tutorial/controlflow.html#lambda-expressions)"
   ]
  },
  {
   "cell_type": "code",
   "execution_count": 11,
   "metadata": {
    "collapsed": false,
    "nbpresent": {
     "id": "2cd225c0-7d90-4045-9b8e-b06551763648"
    }
   },
   "outputs": [
    {
     "name": "stdout",
     "output_type": "stream",
     "text": [
      "Frequency Table for Credit History:\n",
      "0.0     89\n",
      "1.0    475\n",
      "Name: Credit_History, dtype: int64\n",
      "\n",
      "Probability of getting loan for each Credit History class:\n",
      "Credit_History\n",
      "0.0    0.078652\n",
      "1.0    0.795789\n",
      "Name: Loan_Status, dtype: float64\n"
     ]
    }
   ],
   "source": [
    "temp1 = df['Credit_History'].value_counts(ascending=True)\n",
    "temp2 = df.pivot_table(values='Loan_Status', index=['Credit_History'], aggfunc=lambda x: x.map({'Y':1, 'N':0}).mean())\n",
    "\n",
    "print('Frequency Table for Credit History:')\n",
    "print(temp1)\n",
    "\n",
    "print('\\nProbability of getting loan for each Credit History class:')\n",
    "print(temp2)"
   ]
  },
  {
   "cell_type": "markdown",
   "metadata": {},
   "source": [
    "A quick look at the [`aggfunc`](http://pandas.pydata.org/pandas-docs/version/0.18.1/generated/pandas.pivot_table.html) used here:\n",
    "```python\n",
    "aggfunc=lambda x: x.map({'Y':1, 'N':0}).mean())\n",
    "```\n",
    "Recall from earlier, the data in `Loan_Status` was composed of either a `Y` or an `N`. What `map()` is doing, is mapping those to boolean values.\n",
    "\n",
    "Y => 1\n",
    "\n",
    "N => 0\n",
    "\n",
    "\n"
   ]
  },
  {
   "cell_type": "code",
   "execution_count": 12,
   "metadata": {
    "collapsed": false
   },
   "outputs": [
    {
     "data": {
      "text/plain": [
       "<matplotlib.text.Text at 0x825b030>"
      ]
     },
     "execution_count": 12,
     "metadata": {},
     "output_type": "execute_result"
    },
    {
     "data": {
      "image/png": "[encoded data removed]",
      "text/plain": [
       "<matplotlib.figure.Figure at 0x84276d0>"
      ]
     },
     "metadata": {},
     "output_type": "display_data"
    }
   ],
   "source": [
    "# import matplotlib.pyplot as plt --optional since we're already working in Pylab env.\n",
    "fig = plt.figure(figsize=(8,4))\n",
    "ax1 = fig.add_subplot(121) # see: http://matplotlib.org/api/pyplot_api.html#matplotlib.pyplot.subplot\n",
    "ax1.set_xlabel('Credit_History')\n",
    "ax1.set_ylabel('Count of Applicants')\n",
    "ax1.set_title(\"Applicants by Credit_History\")\n",
    "temp1.plot(kind = 'bar')\n",
    "\n",
    "ax2 = fig.add_subplot(122)\n",
    "temp2.plot(kind = 'bar')\n",
    "ax2.set_xlabel('Credit_History')\n",
    "ax2.set_ylabel('Probability of getting loan')\n",
    "ax2.set_title(\"Probability of getting loan by credit history\")"
   ]
  },
  {
   "cell_type": "code",
   "execution_count": 13,
   "metadata": {
    "collapsed": false
   },
   "outputs": [
    {
     "data": {
      "text/plain": [
       "<matplotlib.axes._subplots.AxesSubplot at 0x8280970>"
      ]
     },
     "execution_count": 13,
     "metadata": {},
     "output_type": "execute_result"
    },
    {
     "data": {
      "image/png": "[encoded data removed]",
      "text/plain": [
       "<matplotlib.figure.Figure at 0x827bb30>"
      ]
     },
     "metadata": {},
     "output_type": "display_data"
    }
   ],
   "source": [
    "temp3 = pd.crosstab(df['Credit_History'], df['Loan_Status'])\n",
    "temp3.plot(kind='bar', stacked=True, color=['red','blue'], grid=False)"
   ]
  },
  {
   "cell_type": "markdown",
   "metadata": {},
   "source": [
    "Also I asked a question on stack overflow, located [here](http://stackoverflow.com/questions/41172448/why-wont-barchart-in-pandas-stack-different-values)\n",
    "\n",
    "Suggestion from SO:"
   ]
  },
  {
   "cell_type": "code",
   "execution_count": 14,
   "metadata": {
    "collapsed": false,
    "scrolled": true
   },
   "outputs": [],
   "source": [
    "df['loan_status_word'] = df['Loan_Status'].map({'N':0, 'Y':1})\n",
    "# must map x -> y, where x already exists\n",
    "# counts = df['loan_status_word'].value_counts()\n",
    "# counts"
   ]
  },
  {
   "cell_type": "code",
   "execution_count": 15,
   "metadata": {
    "collapsed": true
   },
   "outputs": [],
   "source": [
    "df['loanY'] = df['Loan_Status'].map({'N':0, 'Y':1})\n",
    "df['loanN'] = df['Loan_Status'].map({'N':1, 'Y':0})"
   ]
  },
  {
   "cell_type": "markdown",
   "metadata": {},
   "source": [
    "This was the original suggestion, was getting a error earlier but now it's gone somehow, probably a typo????\n",
    "\n",
    "...or maybe I didn't run my entire file first...also I changed the `aggfunc` to `sum`"
   ]
  },
  {
   "cell_type": "code",
   "execution_count": 16,
   "metadata": {
    "collapsed": false
   },
   "outputs": [
    {
     "data": {
      "text/html": [
       "<div>\n",
       "<table border=\"1\" class=\"dataframe\">\n",
       "  <thead>\n",
       "    <tr style=\"text-align: right;\">\n",
       "      <th></th>\n",
       "      <th>Loan_Status</th>\n",
       "      <th>N</th>\n",
       "      <th>Y</th>\n",
       "    </tr>\n",
       "    <tr>\n",
       "      <th>Credit_History</th>\n",
       "      <th>Gender</th>\n",
       "      <th></th>\n",
       "      <th></th>\n",
       "    </tr>\n",
       "  </thead>\n",
       "  <tbody>\n",
       "    <tr>\n",
       "      <th rowspan=\"2\" valign=\"top\">0.0</th>\n",
       "      <th>Female</th>\n",
       "      <td>16</td>\n",
       "      <td>1</td>\n",
       "    </tr>\n",
       "    <tr>\n",
       "      <th>Male</th>\n",
       "      <td>63</td>\n",
       "      <td>6</td>\n",
       "    </tr>\n",
       "    <tr>\n",
       "      <th rowspan=\"2\" valign=\"top\">1.0</th>\n",
       "      <th>Female</th>\n",
       "      <td>20</td>\n",
       "      <td>64</td>\n",
       "    </tr>\n",
       "    <tr>\n",
       "      <th>Male</th>\n",
       "      <td>75</td>\n",
       "      <td>307</td>\n",
       "    </tr>\n",
       "  </tbody>\n",
       "</table>\n",
       "</div>"
      ],
      "text/plain": [
       "Loan_Status             N    Y\n",
       "Credit_History Gender         \n",
       "0.0            Female  16    1\n",
       "               Male    63    6\n",
       "1.0            Female  20   64\n",
       "               Male    75  307"
      ]
     },
     "execution_count": 16,
     "metadata": {},
     "output_type": "execute_result"
    }
   ],
   "source": [
    "df.pivot_table(values=['loanY', 'loanN'], \n",
    "               index=['Credit_History', 'Gender'], \n",
    "               columns = 'Loan_Status', \n",
    "               aggfunc = 'size')"
   ]
  },
  {
   "cell_type": "code",
   "execution_count": 17,
   "metadata": {
    "collapsed": true
   },
   "outputs": [],
   "source": [
    "df['loan_status_word'] = df['Loan_Status'].map({'N':1, 'Y':1})"
   ]
  },
  {
   "cell_type": "code",
   "execution_count": 18,
   "metadata": {
    "collapsed": false
   },
   "outputs": [],
   "source": [
    "pvt2 = df.pivot_table(values='loan_status_word', \n",
    "               index=['Credit_History', 'Gender'], \n",
    "               columns = 'Loan_Status', \n",
    "               aggfunc = 'sum')"
   ]
  },
  {
   "cell_type": "code",
   "execution_count": 19,
   "metadata": {
    "collapsed": false
   },
   "outputs": [
    {
     "data": {
      "text/plain": [
       "1"
      ]
     },
     "execution_count": 19,
     "metadata": {},
     "output_type": "execute_result"
    }
   ],
   "source": [
    "ndim(df['loan_status_word'])"
   ]
  },
  {
   "cell_type": "code",
   "execution_count": 20,
   "metadata": {
    "collapsed": false,
    "scrolled": false
   },
   "outputs": [
    {
     "data": {
      "text/plain": [
       "<matplotlib.axes._subplots.AxesSubplot at 0x82b72f0>"
      ]
     },
     "execution_count": 20,
     "metadata": {},
     "output_type": "execute_result"
    },
    {
     "data": {
      "image/png": "[encoded data removed]",
      "text/plain": [
       "<matplotlib.figure.Figure at 0x82a8070>"
      ]
     },
     "metadata": {},
     "output_type": "display_data"
    }
   ],
   "source": [
    "pvt2.plot(kind = 'bar', stacked = True, color = ['red', 'blue'], grid = False)\n"
   ]
  },
  {
   "cell_type": "markdown",
   "metadata": {
    "collapsed": true
   },
   "source": [
    "# Data munging with Pandas\n",
    "### Methods for filling missing values\n",
    "\n",
    "Note: general methods, not based on learning model"
   ]
  },
  {
   "cell_type": "code",
   "execution_count": 21,
   "metadata": {
    "collapsed": false
   },
   "outputs": [
    {
     "data": {
      "text/plain": [
       "Loan_ID               0\n",
       "Gender               13\n",
       "Married               3\n",
       "Dependents           15\n",
       "Education             0\n",
       "Self_Employed        32\n",
       "ApplicantIncome       0\n",
       "CoapplicantIncome     0\n",
       "LoanAmount           22\n",
       "Loan_Amount_Term     14\n",
       "Credit_History       50\n",
       "Property_Area         0\n",
       "Loan_Status           0\n",
       "loan_status_word      0\n",
       "loanY                 0\n",
       "loanN                 0\n",
       "dtype: int64"
      ]
     },
     "execution_count": 21,
     "metadata": {},
     "output_type": "execute_result"
    }
   ],
   "source": [
    "df.apply(lambda x: sum(x.isnull()),axis=0) "
   ]
  },
  {
   "cell_type": "code",
   "execution_count": 22,
   "metadata": {
    "collapsed": false
   },
   "outputs": [
    {
     "data": {
      "text/plain": [
       "No     500\n",
       "Yes     82\n",
       "Name: Self_Employed, dtype: int64"
      ]
     },
     "execution_count": 22,
     "metadata": {},
     "output_type": "execute_result"
    }
   ],
   "source": [
    "df['Self_Employed'].value_counts()"
   ]
  },
  {
   "cell_type": "markdown",
   "metadata": {},
   "source": [
    "### A note on possible methods\n",
    "Here's an example of what can be done, plus my stupid notes.\n",
    "```python\n",
    "# THE MISSING VALUES CELL\n",
    "# maybe I shouldn't run this...at all\n",
    "# To fill by mean:\n",
    "df['LoanAmount'].fillna(df['LoanAmount'].mean(), inplace = True)\n",
    "# causes an error in below cell--nono, actually something else is messing it up\n",
    "# no no actually everything is fine up until problem cell\n",
    "```"
   ]
  },
  {
   "cell_type": "code",
   "execution_count": 23,
   "metadata": {
    "collapsed": false
   },
   "outputs": [
    {
     "data": {
      "text/plain": [
       "<matplotlib.axes._subplots.AxesSubplot at 0x82f1cb0>"
      ]
     },
     "execution_count": 23,
     "metadata": {},
     "output_type": "execute_result"
    },
    {
     "data": {
      "image/png": "[encoded data removed]",
      "text/plain": [
       "<matplotlib.figure.Figure at 0x8614050>"
      ]
     },
     "metadata": {},
     "output_type": "display_data"
    }
   ],
   "source": [
    "df.boxplot(column = 'LoanAmount', by = ['Education', 'Self_Employed'])\n",
    "# did this based on seeing figure from site"
   ]
  },
  {
   "cell_type": "code",
   "execution_count": 24,
   "metadata": {
    "collapsed": false
   },
   "outputs": [
    {
     "data": {
      "text/plain": [
       "No     500\n",
       "Yes     82\n",
       "Name: Self_Employed, dtype: int64"
      ]
     },
     "execution_count": 24,
     "metadata": {},
     "output_type": "execute_result"
    }
   ],
   "source": [
    "df['Self_Employed'].value_counts()"
   ]
  },
  {
   "cell_type": "code",
   "execution_count": 25,
   "metadata": {
    "collapsed": true
   },
   "outputs": [],
   "source": [
    "# most values are no (86%) ergo with high likelihood it can be said the missing are 'No'\n",
    "df['Self_Employed'].fillna('No', inplace = True)"
   ]
  },
  {
   "cell_type": "code",
   "execution_count": 26,
   "metadata": {
    "collapsed": false
   },
   "outputs": [
    {
     "data": {
      "text/html": [
       "<div>\n",
       "<table border=\"1\" class=\"dataframe\">\n",
       "  <thead>\n",
       "    <tr style=\"text-align: right;\">\n",
       "      <th>Education</th>\n",
       "      <th>Graduate</th>\n",
       "      <th>Not Graduate</th>\n",
       "    </tr>\n",
       "    <tr>\n",
       "      <th>Self_Employed</th>\n",
       "      <th></th>\n",
       "      <th></th>\n",
       "    </tr>\n",
       "  </thead>\n",
       "  <tbody>\n",
       "    <tr>\n",
       "      <th>No</th>\n",
       "      <td>130.0</td>\n",
       "      <td>113.0</td>\n",
       "    </tr>\n",
       "    <tr>\n",
       "      <th>Yes</th>\n",
       "      <td>157.5</td>\n",
       "      <td>130.0</td>\n",
       "    </tr>\n",
       "  </tbody>\n",
       "</table>\n",
       "</div>"
      ],
      "text/plain": [
       "Education      Graduate  Not Graduate\n",
       "Self_Employed                        \n",
       "No                130.0         113.0\n",
       "Yes               157.5         130.0"
      ]
     },
     "execution_count": 26,
     "metadata": {},
     "output_type": "execute_result"
    }
   ],
   "source": [
    "table = df.pivot_table(values = 'LoanAmount',\n",
    "                      index = 'Self_Employed',\n",
    "                      columns = 'Education',\n",
    "                      aggfunc = np.median)\n",
    "table"
   ]
  },
  {
   "cell_type": "code",
   "execution_count": 27,
   "metadata": {
    "collapsed": false
   },
   "outputs": [],
   "source": [
    "# returns values of pivot table\n",
    "def fage(x): \n",
    "    return table.loc[x['Self_Employed'], x['Education']]\n",
    "# to replace missing values\n",
    "df['LoanAmount'].fillna(df[df['LoanAmount'].isnull()].apply(fage, axis = 1), inplace = True)"
   ]
  },
  {
   "cell_type": "markdown",
   "metadata": {},
   "source": [
    "# ~~The PROBLEM CELL~~\n",
    "Maybe I should be running this *INSTEAD* of the missing values cell\n",
    "```python\n",
    "# to replace missing values\n",
    "df['LoanAmount'].fillna(df[df['LoanAmount'].isnull()].apply(fage, axis = 1), inplace = True)\n",
    "```\n",
    "\n",
    "->> Conclusion, yes, that ***is*** the problem\n",
    "\n",
    "**Also** be sure to run all the cells preceding this cell\n",
    "\n",
    "A quick breakdown: \n",
    "- Working with the 'LoanAmount' col of df\n",
    "- filling in the na values\n",
    "  - looking at the spots in df where there are nan vals in the 'LoanAmount' col\n",
    "  - returning the following table (run cell below to see)\n",
    "    - `table.loc[df['Self_Employed'], df['Education']]`\n",
    "      - indexing by label\n",
    "      - creates table with all values for 'Self_Employed' and all vals for 'Education' along index and cols respectively\n",
    "      - intersections indicate values, based on original table\n",
    "  - `inplace = True` directly modifying obj"
   ]
  },
  {
   "cell_type": "code",
   "execution_count": 28,
   "metadata": {
    "collapsed": false
   },
   "outputs": [
    {
     "data": {
      "text/plain": [
       "<matplotlib.axes._subplots.AxesSubplot at 0x86775b0>"
      ]
     },
     "execution_count": 28,
     "metadata": {},
     "output_type": "execute_result"
    },
    {
     "data": {
      "image/png": "[encoded data removed]",
      "text/plain": [
       "<matplotlib.figure.Figure at 0x8687650>"
      ]
     },
     "metadata": {},
     "output_type": "display_data"
    }
   ],
   "source": [
    "# log transformation to reduce effect of extreme values as much as possible\n",
    "# natural log\n",
    "df['LoanAmount_log'] = np.log(df['LoanAmount'])\n",
    "df['LoanAmount_log'].hist(bins=20)"
   ]
  },
  {
   "cell_type": "code",
   "execution_count": 29,
   "metadata": {
    "collapsed": false
   },
   "outputs": [
    {
     "data": {
      "text/plain": [
       "<matplotlib.axes._subplots.AxesSubplot at 0x86e8a10>"
      ]
     },
     "execution_count": 29,
     "metadata": {},
     "output_type": "execute_result"
    },
    {
     "data": {
      "image/png": "[encoded data removed]",
      "text/plain": [
       "<matplotlib.figure.Figure at 0x86c9f70>"
      ]
     },
     "metadata": {},
     "output_type": "display_data"
    }
   ],
   "source": [
    "# combining applicant income and coapplicant income\n",
    "# since some have low income but strong coapplicants\n",
    "# >> total income\n",
    "df['TotalIncome'] = df['ApplicantIncome'] + df['CoapplicantIncome']\n",
    "df['TotalIncome_log'] = np.log(df['TotalIncome'])\n",
    "df['TotalIncome_log'].hist(bins=20)"
   ]
  },
  {
   "cell_type": "code",
   "execution_count": 30,
   "metadata": {
    "collapsed": false
   },
   "outputs": [
    {
     "data": {
      "text/plain": [
       "Male      489\n",
       "Female    112\n",
       "Name: Gender, dtype: int64"
      ]
     },
     "execution_count": 30,
     "metadata": {},
     "output_type": "execute_result"
    }
   ],
   "source": [
    "df['Gender'].value_counts()"
   ]
  },
  {
   "cell_type": "code",
   "execution_count": 31,
   "metadata": {
    "collapsed": false
   },
   "outputs": [
    {
     "data": {
      "text/plain": [
       "Male      502\n",
       "Female    112\n",
       "Name: Gender, dtype: int64"
      ]
     },
     "execution_count": 31,
     "metadata": {},
     "output_type": "execute_result"
    }
   ],
   "source": [
    "# ~81% are male, ergo we can say it is likely the missing applicants are male\n",
    "# the 13 missing values are ~2% of the entire set, so there isn't a large concern on its effect\n",
    "df['Gender'].fillna(value = 'Male', inplace=True)\n",
    "df['Gender'].value_counts()"
   ]
  },
  {
   "cell_type": "code",
   "execution_count": 32,
   "metadata": {
    "collapsed": false
   },
   "outputs": [
    {
     "data": {
      "text/plain": [
       "Yes    398\n",
       "No     213\n",
       "Name: Married, dtype: int64"
      ]
     },
     "execution_count": 32,
     "metadata": {},
     "output_type": "execute_result"
    }
   ],
   "source": [
    "df['Married'].value_counts()"
   ]
  },
  {
   "cell_type": "code",
   "execution_count": 33,
   "metadata": {
    "collapsed": false
   },
   "outputs": [
    {
     "data": {
      "text/plain": [
       "Yes    401\n",
       "No     213\n",
       "Name: Married, dtype: int64"
      ]
     },
     "execution_count": 33,
     "metadata": {},
     "output_type": "execute_result"
    }
   ],
   "source": [
    "df['Married'].fillna(value = 'Yes', inplace = True)\n",
    "df['Married'].value_counts()"
   ]
  },
  {
   "cell_type": "code",
   "execution_count": 34,
   "metadata": {
    "collapsed": false
   },
   "outputs": [
    {
     "data": {
      "text/plain": [
       "0     345\n",
       "1     102\n",
       "2     101\n",
       "3+     51\n",
       "Name: Dependents, dtype: int64"
      ]
     },
     "execution_count": 34,
     "metadata": {},
     "output_type": "execute_result"
    }
   ],
   "source": [
    "df['Dependents'].value_counts()"
   ]
  },
  {
   "cell_type": "code",
   "execution_count": 35,
   "metadata": {
    "collapsed": false
   },
   "outputs": [
    {
     "data": {
      "text/plain": [
       "0     360\n",
       "1     102\n",
       "2     101\n",
       "3+     51\n",
       "Name: Dependents, dtype: int64"
      ]
     },
     "execution_count": 35,
     "metadata": {},
     "output_type": "execute_result"
    }
   ],
   "source": [
    "df['Dependents'].fillna(value = '0', inplace = True) # categories are str\n",
    "df['Dependents'].value_counts()"
   ]
  },
  {
   "cell_type": "code",
   "execution_count": 36,
   "metadata": {
    "collapsed": false
   },
   "outputs": [
    {
     "data": {
      "text/plain": [
       "360.0    512\n",
       "180.0     44\n",
       "480.0     15\n",
       "300.0     13\n",
       "84.0       4\n",
       "240.0      4\n",
       "120.0      3\n",
       "36.0       2\n",
       "60.0       2\n",
       "12.0       1\n",
       "Name: Loan_Amount_Term, dtype: int64"
      ]
     },
     "execution_count": 36,
     "metadata": {},
     "output_type": "execute_result"
    }
   ],
   "source": [
    "df['Loan_Amount_Term'].value_counts()"
   ]
  },
  {
   "cell_type": "code",
   "execution_count": 37,
   "metadata": {
    "collapsed": false
   },
   "outputs": [
    {
     "data": {
      "text/plain": [
       "360.0    512\n",
       "180.0     44\n",
       "480.0     15\n",
       "300.0     13\n",
       "84.0       4\n",
       "240.0      4\n",
       "120.0      3\n",
       "36.0       2\n",
       "60.0       2\n",
       "12.0       1\n",
       "Name: Loan_Amount_Term, dtype: int64"
      ]
     },
     "execution_count": 37,
     "metadata": {},
     "output_type": "execute_result"
    }
   ],
   "source": [
    "df['Loan_Amount_Term'].value_counts()"
   ]
  },
  {
   "cell_type": "code",
   "execution_count": 38,
   "metadata": {
    "collapsed": false
   },
   "outputs": [
    {
     "data": {
      "text/plain": [
       "342.0"
      ]
     },
     "execution_count": 38,
     "metadata": {},
     "output_type": "execute_result"
    }
   ],
   "source": [
    "df['Loan_Amount_Term'].mean()"
   ]
  },
  {
   "cell_type": "code",
   "execution_count": 39,
   "metadata": {
    "collapsed": false
   },
   "outputs": [
    {
     "data": {
      "text/plain": [
       "360.0    526\n",
       "180.0     44\n",
       "480.0     15\n",
       "300.0     13\n",
       "84.0       4\n",
       "240.0      4\n",
       "120.0      3\n",
       "36.0       2\n",
       "60.0       2\n",
       "12.0       1\n",
       "Name: Loan_Amount_Term, dtype: int64"
      ]
     },
     "execution_count": 39,
     "metadata": {},
     "output_type": "execute_result"
    }
   ],
   "source": [
    "df['Loan_Amount_Term'].fillna(value = 360, inplace = True) # discrete int values, chose closest to mean\n",
    "df['Loan_Amount_Term'].value_counts()"
   ]
  },
  {
   "cell_type": "code",
   "execution_count": 40,
   "metadata": {
    "collapsed": false
   },
   "outputs": [
    {
     "data": {
      "text/plain": [
       "1.0    475\n",
       "0.0     89\n",
       "Name: Credit_History, dtype: int64"
      ]
     },
     "execution_count": 40,
     "metadata": {},
     "output_type": "execute_result"
    }
   ],
   "source": [
    "df['Credit_History'].value_counts()"
   ]
  },
  {
   "cell_type": "code",
   "execution_count": 41,
   "metadata": {
    "collapsed": false
   },
   "outputs": [
    {
     "data": {
      "text/plain": [
       "1.0    525\n",
       "0.0     89\n",
       "Name: Credit_History, dtype: int64"
      ]
     },
     "execution_count": 41,
     "metadata": {},
     "output_type": "execute_result"
    }
   ],
   "source": [
    "df['Credit_History'].fillna(value = 1.0, inplace = True) #if inplace = True, operations on original mtx\n",
    "df['Credit_History'].value_counts()"
   ]
  },
  {
   "cell_type": "code",
   "execution_count": 42,
   "metadata": {
    "collapsed": false
   },
   "outputs": [
    {
     "data": {
      "text/plain": [
       "Loan_ID              0\n",
       "Gender               0\n",
       "Married              0\n",
       "Dependents           0\n",
       "Education            0\n",
       "Self_Employed        0\n",
       "ApplicantIncome      0\n",
       "CoapplicantIncome    0\n",
       "LoanAmount           0\n",
       "Loan_Amount_Term     0\n",
       "Credit_History       0\n",
       "Property_Area        0\n",
       "Loan_Status          0\n",
       "loan_status_word     0\n",
       "loanY                0\n",
       "loanN                0\n",
       "LoanAmount_log       0\n",
       "TotalIncome          0\n",
       "TotalIncome_log      0\n",
       "dtype: int64"
      ]
     },
     "execution_count": 42,
     "metadata": {},
     "output_type": "execute_result"
    }
   ],
   "source": [
    "df.apply(lambda x: sum(x.isnull()),axis=0) "
   ]
  },
  {
   "cell_type": "markdown",
   "metadata": {},
   "source": [
    "# Building a Predicting Model\n",
    "For this we will use the `sklearn` module\n",
    "\n",
    "`sklearn` requires all numeric inputs, thus categories must be converted to numerical data\n",
    "\n",
    "This is done below.\n",
    "[LabelEncoder Documentation](http://scikit-learn.org/stable/modules/generated/sklearn.preprocessing.LabelEncoder.html)"
   ]
  },
  {
   "cell_type": "code",
   "execution_count": 43,
   "metadata": {
    "collapsed": false
   },
   "outputs": [
    {
     "data": {
      "text/plain": [
       "Loan_ID               object\n",
       "Gender                 int32\n",
       "Married                int32\n",
       "Dependents             int32\n",
       "Education              int32\n",
       "Self_Employed          int32\n",
       "ApplicantIncome        int64\n",
       "CoapplicantIncome    float64\n",
       "LoanAmount           float64\n",
       "Loan_Amount_Term     float64\n",
       "Credit_History       float64\n",
       "Property_Area          int32\n",
       "Loan_Status            int32\n",
       "loan_status_word       int64\n",
       "loanY                  int64\n",
       "loanN                  int64\n",
       "LoanAmount_log       float64\n",
       "TotalIncome          float64\n",
       "TotalIncome_log      float64\n",
       "dtype: object"
      ]
     },
     "execution_count": 43,
     "metadata": {},
     "output_type": "execute_result"
    }
   ],
   "source": [
    "from sklearn.preprocessing import LabelEncoder\n",
    "var_mod = ['Gender', 'Married', 'Dependents', 'Education', 'Self_Employed', 'Property_Area', 'Loan_Status']\n",
    "le = LabelEncoder() # creating an estimator; obj of estimator class\n",
    "for i in var_mod:\n",
    "    df[i] = le.fit_transform(df[i])\n",
    "df.dtypes"
   ]
  },
  {
   "cell_type": "markdown",
   "metadata": {},
   "source": [
    "### Defining generic classification function\n",
    "\n",
    "Read more on the [here](https://www.analyticsvidhya.com/blog/2015/08/common-machine-learning-algorithms/)"
   ]
  },
  {
   "cell_type": "code",
   "execution_count": 44,
   "metadata": {
    "collapsed": false
   },
   "outputs": [
    {
     "name": "stderr",
     "output_type": "stream",
     "text": [
      "C:\\Users\\danielle.leong\\AppData\\Local\\Continuum\\Anaconda3\\Lib\\site-packages\\sklearn\\cross_validation.py:44: DeprecationWarning: This module was deprecated in version 0.18 in favor of the model_selection module into which all the refactored classes and functions are moved. Also note that the interface of the new CV iterators are different from that of this module. This module will be removed in 0.20.\n",
      "  \"This module will be removed in 0.20.\", DeprecationWarning)\n"
     ]
    }
   ],
   "source": [
    "# import models from scikit-learn \n",
    "from sklearn.linear_model import LogisticRegression\n",
    "from sklearn.cross_validation import KFold # for K-fold cross validation\n",
    "from sklearn.ensemble import RandomForestClassifier\n",
    "from sklearn.tree import DecisionTreeClassifier, export_graphviz\n",
    "from sklearn import metrics\n",
    "\n",
    "# generic fxn for making classification model and processing accessing performance\n",
    "def classification_model(model, data, predictors, outcome):\n",
    "    model.fit(data[predictors], data[outcome]) # fit model\n",
    "    predictions = model.predict(data[predictors]) # make predictions on training set\n",
    "    \n",
    "    # print accuracy\n",
    "    accuracy = metrics.accuracy_score(predictions, data[outcome])\n",
    "    print(\"Accuracy: %s\" % \"{0:.3%}\".format(accuracy))\n",
    "    \n",
    "    # k-fold cross validatiom, 5 folds\n",
    "    kf = KFold(data.shape[0], n_folds = 5)\n",
    "    error = []\n",
    "    for train, test in kf:\n",
    "        train_predictors = (data[predictors].iloc[train,:]) # filter training data\n",
    "        train_target = data[outcome].iloc[train]\n",
    "        model.fit(train_predictors, train_target)\n",
    "        \n",
    "        # record error from each run\n",
    "        error.append(model.score(data[predictors].iloc[test,:], data[outcome].iloc[test]))\n",
    "        \n",
    "        print(\"Cross-Validation Score: %s\" % \"{0:.3%}\".format(np.mean(error)))\n",
    "        \n",
    "        # fit model (again) so it can be referred to outside fxn\n",
    "        model.fit(data[predictors], data[outcome])"
   ]
  },
  {
   "cell_type": "markdown",
   "metadata": {
    "collapsed": true
   },
   "source": [
    "## Logistic Regression\n",
    "Note: taking in all variables may result in overfitting the model\n",
    "regression: relation of variables to a target variable \n",
    "\n",
    "[wiki](https://en.wikipedia.org/wiki/Regression_analysis)"
   ]
  },
  {
   "cell_type": "code",
   "execution_count": 45,
   "metadata": {
    "collapsed": false
   },
   "outputs": [
    {
     "name": "stdout",
     "output_type": "stream",
     "text": [
      "Accuracy: 80.945%\n",
      "Cross-Validation Score: 80.488%\n",
      "Cross-Validation Score: 78.455%\n",
      "Cross-Validation Score: 79.133%\n",
      "Cross-Validation Score: 80.691%\n",
      "Cross-Validation Score: 80.946%\n"
     ]
    }
   ],
   "source": [
    "outcome_var = 'Loan_Status'\n",
    "model = LogisticRegression()\n",
    "predictor_var = ['Credit_History']\n",
    "classification_model(model, df, predictor_var, outcome_var)"
   ]
  },
  {
   "cell_type": "code",
   "execution_count": 46,
   "metadata": {
    "collapsed": false
   },
   "outputs": [
    {
     "name": "stdout",
     "output_type": "stream",
     "text": [
      "Accuracy: 80.945%\n",
      "Cross-Validation Score: 80.488%\n",
      "Cross-Validation Score: 78.455%\n",
      "Cross-Validation Score: 79.133%\n",
      "Cross-Validation Score: 80.691%\n",
      "Cross-Validation Score: 80.946%\n"
     ]
    }
   ],
   "source": [
    "# diff comb. of vars\n",
    "predictor_var = ['Credit_History', 'Education', 'Married', 'Self_Employed', 'Property_Area']\n",
    "classification_model(model, df, predictor_var, outcome_var)\n",
    "# no major diff"
   ]
  },
  {
   "cell_type": "markdown",
   "metadata": {},
   "source": [
    "## Decision Tree\n",
    "note: tends to higher accuracy than logistic regression\n",
    "\n",
    "- works by splitting based on categories\n",
    "- can also work for continuous target data\n",
    "- using all data risks overfitting"
   ]
  },
  {
   "cell_type": "code",
   "execution_count": 47,
   "metadata": {
    "collapsed": false,
    "scrolled": true
   },
   "outputs": [
    {
     "name": "stdout",
     "output_type": "stream",
     "text": [
      "Accuracy: 80.945%\n",
      "Cross-Validation Score: 80.488%\n",
      "Cross-Validation Score: 78.455%\n",
      "Cross-Validation Score: 79.133%\n",
      "Cross-Validation Score: 80.691%\n",
      "Cross-Validation Score: 80.946%\n"
     ]
    }
   ],
   "source": [
    "model = DecisionTreeClassifier()\n",
    "predictor_var = ['Credit_History', 'Gender', 'Married', 'Education']\n",
    "classification_model(model, df, predictor_var, outcome_var)\n",
    "# according to side it should be ~ 82%"
   ]
  },
  {
   "cell_type": "code",
   "execution_count": 48,
   "metadata": {
    "collapsed": false,
    "scrolled": true
   },
   "outputs": [
    {
     "name": "stdout",
     "output_type": "stream",
     "text": [
      "Accuracy: 88.925%\n",
      "Cross-Validation Score: 73.171%\n",
      "Cross-Validation Score: 71.138%\n",
      "Cross-Validation Score: 70.461%\n",
      "Cross-Validation Score: 70.528%\n",
      "Cross-Validation Score: 69.046%\n"
     ]
    }
   ],
   "source": [
    "model = DecisionTreeClassifier()\n",
    "predictor_var = ['Credit_History', 'Loan_Amount_Term', 'LoanAmount_log']\n",
    "classification_model(model, df, predictor_var, outcome_var)"
   ]
  },
  {
   "cell_type": "markdown",
   "metadata": {},
   "source": [
    "## Random Forest\n",
    "algorithm for solving classification problem\n",
    "- can work with all features\n",
    "- returns feature importance mtx\n",
    "  - can be used to select features"
   ]
  },
  {
   "cell_type": "code",
   "execution_count": 49,
   "metadata": {
    "collapsed": false
   },
   "outputs": [
    {
     "name": "stdout",
     "output_type": "stream",
     "text": [
      "Accuracy: 100.000%\n",
      "Cross-Validation Score: 77.236%\n",
      "Cross-Validation Score: 75.610%\n",
      "Cross-Validation Score: 77.236%\n",
      "Cross-Validation Score: 78.049%\n",
      "Cross-Validation Score: 78.505%\n"
     ]
    }
   ],
   "source": [
    "model = RandomForestClassifier(n_estimators = 100) # 10 estimators per var?\n",
    "predictor_var = ['Gender', 'Married', 'Dependents', \n",
    "                 'Education', 'Self_Employed', 'Loan_Amount_Term',\n",
    "                 'Credit_History', 'Property_Area', 'LoanAmount_log',\n",
    "                 'TotalIncome_log']\n",
    "classification_model(model, df, predictor_var, outcome_var)\n",
    "# site reads as 100% accuracy, x-val 78.179%"
   ]
  },
  {
   "cell_type": "markdown",
   "metadata": {},
   "source": [
    "An accuracy of 100% is the *\"ultimate case of overfitting\"* and can be fixed by:\n",
    "1. reducing number of predictors\n",
    "1. tuning model parameters\n",
    "\n",
    "note: feature importances are based on ['Gini index'](https://www.analyticsvidhya.com/blog/2016/04/complete-tutorial-tree-based-modeling-scratch-in-python/#one)"
   ]
  },
  {
   "cell_type": "code",
   "execution_count": 50,
   "metadata": {
    "collapsed": false
   },
   "outputs": [
    {
     "name": "stdout",
     "output_type": "stream",
     "text": [
      "TotalIncome_log     0.273638\n",
      "Credit_History      0.271003\n",
      "LoanAmount_log      0.220038\n",
      "Dependents          0.051117\n",
      "Property_Area       0.049102\n",
      "Loan_Amount_Term    0.042426\n",
      "Married             0.026042\n",
      "Education           0.023594\n",
      "Self_Employed       0.021575\n",
      "Gender              0.021465\n",
      "dtype: float64\n"
     ]
    }
   ],
   "source": [
    "# creating series with feature importances\n",
    "featimp = pd.Series(model.feature_importances_, index = predictor_var).sort_values(ascending = False)\n",
    "print(featimp)"
   ]
  },
  {
   "cell_type": "code",
   "execution_count": 51,
   "metadata": {
    "collapsed": false
   },
   "outputs": [
    {
     "name": "stdout",
     "output_type": "stream",
     "text": [
      "Accuracy: 82.736%\n",
      "Cross-Validation Score: 78.862%\n",
      "Cross-Validation Score: 76.829%\n",
      "Cross-Validation Score: 78.862%\n",
      "Cross-Validation Score: 79.878%\n",
      "Cross-Validation Score: 80.132%\n"
     ]
    }
   ],
   "source": [
    "# modifying model based on top 5 influences\n",
    "model = RandomForestClassifier(n_estimators = 25,\n",
    "                               min_samples_split = 25,\n",
    "                               max_depth = 7, max_features = 1)\n",
    "predictor_var = ['Credit_History', 'TotalIncome_log', 'LoanAmount_log', 'Dependents', 'Property_Area']\n",
    "classification_model(model, df, predictor_var, outcome_var)\n",
    "# tut predicts 82.899%, x-val: 81.461 %\n",
    "# each run will yield slightly different results due to randomisation\n",
    "# generally out/p values will fall 'within ballpark'"
   ]
  },
  {
   "cell_type": "markdown",
   "metadata": {},
   "source": [
    "#### important notes: \n",
    "1. more complex models don't ensure better results\n",
    "1. avoid modeling w/o knowning concept behind model\n",
    "  - risk overfitting -> less able to interpret model\n",
    "1. [feature engineering](https://www.analyticsvidhya.com/blog/2016/01/guide-data-exploration/#four) is crucial for creating good model\n"
   ]
  },
  {
   "cell_type": "markdown",
   "metadata": {},
   "source": [
    "# The END\n",
    "## And now some information on correlation"
   ]
  },
  {
   "cell_type": "code",
   "execution_count": 52,
   "metadata": {
    "collapsed": false
   },
   "outputs": [
    {
     "data": {
      "text/html": [
       "<div>\n",
       "<table border=\"1\" class=\"dataframe\">\n",
       "  <thead>\n",
       "    <tr style=\"text-align: right;\">\n",
       "      <th></th>\n",
       "      <th>Gender</th>\n",
       "      <th>Married</th>\n",
       "      <th>Dependents</th>\n",
       "      <th>Education</th>\n",
       "      <th>Self_Employed</th>\n",
       "      <th>ApplicantIncome</th>\n",
       "      <th>CoapplicantIncome</th>\n",
       "      <th>LoanAmount</th>\n",
       "      <th>Loan_Amount_Term</th>\n",
       "      <th>Credit_History</th>\n",
       "      <th>Property_Area</th>\n",
       "      <th>Loan_Status</th>\n",
       "      <th>loan_status_word</th>\n",
       "      <th>loanY</th>\n",
       "      <th>loanN</th>\n",
       "      <th>LoanAmount_log</th>\n",
       "      <th>TotalIncome</th>\n",
       "      <th>TotalIncome_log</th>\n",
       "    </tr>\n",
       "  </thead>\n",
       "  <tbody>\n",
       "    <tr>\n",
       "      <th>Gender</th>\n",
       "      <td>1.000000</td>\n",
       "      <td>0.364569</td>\n",
       "      <td>0.172914</td>\n",
       "      <td>0.045364</td>\n",
       "      <td>-0.000525</td>\n",
       "      <td>0.058809</td>\n",
       "      <td>0.082912</td>\n",
       "      <td>0.106096</td>\n",
       "      <td>-0.074030</td>\n",
       "      <td>0.009170</td>\n",
       "      <td>-0.025752</td>\n",
       "      <td>0.017987</td>\n",
       "      <td>NaN</td>\n",
       "      <td>0.017987</td>\n",
       "      <td>-0.017987</td>\n",
       "      <td>0.142339</td>\n",
       "      <td>0.093191</td>\n",
       "      <td>0.167285</td>\n",
       "    </tr>\n",
       "    <tr>\n",
       "      <th>Married</th>\n",
       "      <td>0.364569</td>\n",
       "      <td>1.000000</td>\n",
       "      <td>0.334216</td>\n",
       "      <td>0.012304</td>\n",
       "      <td>0.004489</td>\n",
       "      <td>0.051708</td>\n",
       "      <td>0.075948</td>\n",
       "      <td>0.146279</td>\n",
       "      <td>-0.100912</td>\n",
       "      <td>0.010938</td>\n",
       "      <td>0.004257</td>\n",
       "      <td>0.091478</td>\n",
       "      <td>NaN</td>\n",
       "      <td>0.091478</td>\n",
       "      <td>-0.091478</td>\n",
       "      <td>0.179366</td>\n",
       "      <td>0.083319</td>\n",
       "      <td>0.151527</td>\n",
       "    </tr>\n",
       "    <tr>\n",
       "      <th>Dependents</th>\n",
       "      <td>0.172914</td>\n",
       "      <td>0.334216</td>\n",
       "      <td>1.000000</td>\n",
       "      <td>0.055752</td>\n",
       "      <td>0.056798</td>\n",
       "      <td>0.118202</td>\n",
       "      <td>0.030430</td>\n",
       "      <td>0.162710</td>\n",
       "      <td>-0.103864</td>\n",
       "      <td>-0.040160</td>\n",
       "      <td>-0.000244</td>\n",
       "      <td>0.010118</td>\n",
       "      <td>NaN</td>\n",
       "      <td>0.010118</td>\n",
       "      <td>-0.010118</td>\n",
       "      <td>0.155968</td>\n",
       "      <td>0.125590</td>\n",
       "      <td>0.112812</td>\n",
       "    </tr>\n",
       "    <tr>\n",
       "      <th>Education</th>\n",
       "      <td>0.045364</td>\n",
       "      <td>0.012304</td>\n",
       "      <td>0.055752</td>\n",
       "      <td>1.000000</td>\n",
       "      <td>-0.010383</td>\n",
       "      <td>-0.140760</td>\n",
       "      <td>-0.062290</td>\n",
       "      <td>-0.173683</td>\n",
       "      <td>-0.073928</td>\n",
       "      <td>-0.073658</td>\n",
       "      <td>-0.065243</td>\n",
       "      <td>-0.085884</td>\n",
       "      <td>NaN</td>\n",
       "      <td>-0.085884</td>\n",
       "      <td>0.085884</td>\n",
       "      <td>-0.152593</td>\n",
       "      <td>-0.161362</td>\n",
       "      <td>-0.204861</td>\n",
       "    </tr>\n",
       "    <tr>\n",
       "      <th>Self_Employed</th>\n",
       "      <td>-0.000525</td>\n",
       "      <td>0.004489</td>\n",
       "      <td>0.056798</td>\n",
       "      <td>-0.010383</td>\n",
       "      <td>1.000000</td>\n",
       "      <td>0.127180</td>\n",
       "      <td>-0.016100</td>\n",
       "      <td>0.120030</td>\n",
       "      <td>-0.033739</td>\n",
       "      <td>-0.001550</td>\n",
       "      <td>-0.030860</td>\n",
       "      <td>-0.003700</td>\n",
       "      <td>NaN</td>\n",
       "      <td>-0.003700</td>\n",
       "      <td>0.003700</td>\n",
       "      <td>0.115678</td>\n",
       "      <td>0.113000</td>\n",
       "      <td>0.176709</td>\n",
       "    </tr>\n",
       "    <tr>\n",
       "      <th>ApplicantIncome</th>\n",
       "      <td>0.058809</td>\n",
       "      <td>0.051708</td>\n",
       "      <td>0.118202</td>\n",
       "      <td>-0.140760</td>\n",
       "      <td>0.127180</td>\n",
       "      <td>1.000000</td>\n",
       "      <td>-0.116605</td>\n",
       "      <td>0.565940</td>\n",
       "      <td>-0.046531</td>\n",
       "      <td>-0.018615</td>\n",
       "      <td>-0.009500</td>\n",
       "      <td>-0.004710</td>\n",
       "      <td>NaN</td>\n",
       "      <td>-0.004710</td>\n",
       "      <td>0.004710</td>\n",
       "      <td>0.436463</td>\n",
       "      <td>0.893037</td>\n",
       "      <td>0.717829</td>\n",
       "    </tr>\n",
       "    <tr>\n",
       "      <th>CoapplicantIncome</th>\n",
       "      <td>0.082912</td>\n",
       "      <td>0.075948</td>\n",
       "      <td>0.030430</td>\n",
       "      <td>-0.062290</td>\n",
       "      <td>-0.016100</td>\n",
       "      <td>-0.116605</td>\n",
       "      <td>1.000000</td>\n",
       "      <td>0.188128</td>\n",
       "      <td>-0.059383</td>\n",
       "      <td>0.011134</td>\n",
       "      <td>0.010522</td>\n",
       "      <td>-0.059187</td>\n",
       "      <td>NaN</td>\n",
       "      <td>-0.059187</td>\n",
       "      <td>0.059187</td>\n",
       "      <td>0.204967</td>\n",
       "      <td>0.342781</td>\n",
       "      <td>0.383827</td>\n",
       "    </tr>\n",
       "    <tr>\n",
       "      <th>LoanAmount</th>\n",
       "      <td>0.106096</td>\n",
       "      <td>0.146279</td>\n",
       "      <td>0.162710</td>\n",
       "      <td>-0.173683</td>\n",
       "      <td>0.120030</td>\n",
       "      <td>0.565940</td>\n",
       "      <td>0.188128</td>\n",
       "      <td>1.000000</td>\n",
       "      <td>0.038536</td>\n",
       "      <td>-0.000630</td>\n",
       "      <td>-0.048304</td>\n",
       "      <td>-0.031618</td>\n",
       "      <td>NaN</td>\n",
       "      <td>-0.031618</td>\n",
       "      <td>0.031618</td>\n",
       "      <td>0.895868</td>\n",
       "      <td>0.620540</td>\n",
       "      <td>0.688600</td>\n",
       "    </tr>\n",
       "    <tr>\n",
       "      <th>Loan_Amount_Term</th>\n",
       "      <td>-0.074030</td>\n",
       "      <td>-0.100912</td>\n",
       "      <td>-0.103864</td>\n",
       "      <td>-0.073928</td>\n",
       "      <td>-0.033739</td>\n",
       "      <td>-0.046531</td>\n",
       "      <td>-0.059383</td>\n",
       "      <td>0.038536</td>\n",
       "      <td>1.000000</td>\n",
       "      <td>-0.004705</td>\n",
       "      <td>-0.076120</td>\n",
       "      <td>-0.022549</td>\n",
       "      <td>NaN</td>\n",
       "      <td>-0.022549</td>\n",
       "      <td>0.022549</td>\n",
       "      <td>0.087421</td>\n",
       "      <td>-0.070917</td>\n",
       "      <td>-0.056044</td>\n",
       "    </tr>\n",
       "    <tr>\n",
       "      <th>Credit_History</th>\n",
       "      <td>0.009170</td>\n",
       "      <td>0.010938</td>\n",
       "      <td>-0.040160</td>\n",
       "      <td>-0.073658</td>\n",
       "      <td>-0.001550</td>\n",
       "      <td>-0.018615</td>\n",
       "      <td>0.011134</td>\n",
       "      <td>-0.000630</td>\n",
       "      <td>-0.004705</td>\n",
       "      <td>1.000000</td>\n",
       "      <td>0.001963</td>\n",
       "      <td>0.540556</td>\n",
       "      <td>NaN</td>\n",
       "      <td>0.540556</td>\n",
       "      <td>-0.540556</td>\n",
       "      <td>-0.018373</td>\n",
       "      <td>-0.012563</td>\n",
       "      <td>0.020791</td>\n",
       "    </tr>\n",
       "    <tr>\n",
       "      <th>Property_Area</th>\n",
       "      <td>-0.025752</td>\n",
       "      <td>0.004257</td>\n",
       "      <td>-0.000244</td>\n",
       "      <td>-0.065243</td>\n",
       "      <td>-0.030860</td>\n",
       "      <td>-0.009500</td>\n",
       "      <td>0.010522</td>\n",
       "      <td>-0.048304</td>\n",
       "      <td>-0.076120</td>\n",
       "      <td>0.001963</td>\n",
       "      <td>1.000000</td>\n",
       "      <td>0.032112</td>\n",
       "      <td>NaN</td>\n",
       "      <td>0.032112</td>\n",
       "      <td>-0.032112</td>\n",
       "      <td>-0.097396</td>\n",
       "      <td>-0.004218</td>\n",
       "      <td>-0.046246</td>\n",
       "    </tr>\n",
       "    <tr>\n",
       "      <th>Loan_Status</th>\n",
       "      <td>0.017987</td>\n",
       "      <td>0.091478</td>\n",
       "      <td>0.010118</td>\n",
       "      <td>-0.085884</td>\n",
       "      <td>-0.003700</td>\n",
       "      <td>-0.004710</td>\n",
       "      <td>-0.059187</td>\n",
       "      <td>-0.031618</td>\n",
       "      <td>-0.022549</td>\n",
       "      <td>0.540556</td>\n",
       "      <td>0.032112</td>\n",
       "      <td>1.000000</td>\n",
       "      <td>NaN</td>\n",
       "      <td>1.000000</td>\n",
       "      <td>-1.000000</td>\n",
       "      <td>-0.035713</td>\n",
       "      <td>-0.031271</td>\n",
       "      <td>0.007240</td>\n",
       "    </tr>\n",
       "    <tr>\n",
       "      <th>loan_status_word</th>\n",
       "      <td>NaN</td>\n",
       "      <td>NaN</td>\n",
       "      <td>NaN</td>\n",
       "      <td>NaN</td>\n",
       "      <td>NaN</td>\n",
       "      <td>NaN</td>\n",
       "      <td>NaN</td>\n",
       "      <td>NaN</td>\n",
       "      <td>NaN</td>\n",
       "      <td>NaN</td>\n",
       "      <td>NaN</td>\n",
       "      <td>NaN</td>\n",
       "      <td>NaN</td>\n",
       "      <td>NaN</td>\n",
       "      <td>NaN</td>\n",
       "      <td>NaN</td>\n",
       "      <td>NaN</td>\n",
       "      <td>NaN</td>\n",
       "    </tr>\n",
       "    <tr>\n",
       "      <th>loanY</th>\n",
       "      <td>0.017987</td>\n",
       "      <td>0.091478</td>\n",
       "      <td>0.010118</td>\n",
       "      <td>-0.085884</td>\n",
       "      <td>-0.003700</td>\n",
       "      <td>-0.004710</td>\n",
       "      <td>-0.059187</td>\n",
       "      <td>-0.031618</td>\n",
       "      <td>-0.022549</td>\n",
       "      <td>0.540556</td>\n",
       "      <td>0.032112</td>\n",
       "      <td>1.000000</td>\n",
       "      <td>NaN</td>\n",
       "      <td>1.000000</td>\n",
       "      <td>-1.000000</td>\n",
       "      <td>-0.035713</td>\n",
       "      <td>-0.031271</td>\n",
       "      <td>0.007240</td>\n",
       "    </tr>\n",
       "    <tr>\n",
       "      <th>loanN</th>\n",
       "      <td>-0.017987</td>\n",
       "      <td>-0.091478</td>\n",
       "      <td>-0.010118</td>\n",
       "      <td>0.085884</td>\n",
       "      <td>0.003700</td>\n",
       "      <td>0.004710</td>\n",
       "      <td>0.059187</td>\n",
       "      <td>0.031618</td>\n",
       "      <td>0.022549</td>\n",
       "      <td>-0.540556</td>\n",
       "      <td>-0.032112</td>\n",
       "      <td>-1.000000</td>\n",
       "      <td>NaN</td>\n",
       "      <td>-1.000000</td>\n",
       "      <td>1.000000</td>\n",
       "      <td>0.035713</td>\n",
       "      <td>0.031271</td>\n",
       "      <td>-0.007240</td>\n",
       "    </tr>\n",
       "    <tr>\n",
       "      <th>LoanAmount_log</th>\n",
       "      <td>0.142339</td>\n",
       "      <td>0.179366</td>\n",
       "      <td>0.155968</td>\n",
       "      <td>-0.152593</td>\n",
       "      <td>0.115678</td>\n",
       "      <td>0.436463</td>\n",
       "      <td>0.204967</td>\n",
       "      <td>0.895868</td>\n",
       "      <td>0.087421</td>\n",
       "      <td>-0.018373</td>\n",
       "      <td>-0.097396</td>\n",
       "      <td>-0.035713</td>\n",
       "      <td>NaN</td>\n",
       "      <td>-0.035713</td>\n",
       "      <td>0.035713</td>\n",
       "      <td>1.000000</td>\n",
       "      <td>0.505701</td>\n",
       "      <td>0.660429</td>\n",
       "    </tr>\n",
       "    <tr>\n",
       "      <th>TotalIncome</th>\n",
       "      <td>0.093191</td>\n",
       "      <td>0.083319</td>\n",
       "      <td>0.125590</td>\n",
       "      <td>-0.161362</td>\n",
       "      <td>0.113000</td>\n",
       "      <td>0.893037</td>\n",
       "      <td>0.342781</td>\n",
       "      <td>0.620540</td>\n",
       "      <td>-0.070917</td>\n",
       "      <td>-0.012563</td>\n",
       "      <td>-0.004218</td>\n",
       "      <td>-0.031271</td>\n",
       "      <td>NaN</td>\n",
       "      <td>-0.031271</td>\n",
       "      <td>0.031271</td>\n",
       "      <td>0.505701</td>\n",
       "      <td>1.000000</td>\n",
       "      <td>0.852873</td>\n",
       "    </tr>\n",
       "    <tr>\n",
       "      <th>TotalIncome_log</th>\n",
       "      <td>0.167285</td>\n",
       "      <td>0.151527</td>\n",
       "      <td>0.112812</td>\n",
       "      <td>-0.204861</td>\n",
       "      <td>0.176709</td>\n",
       "      <td>0.717829</td>\n",
       "      <td>0.383827</td>\n",
       "      <td>0.688600</td>\n",
       "      <td>-0.056044</td>\n",
       "      <td>0.020791</td>\n",
       "      <td>-0.046246</td>\n",
       "      <td>0.007240</td>\n",
       "      <td>NaN</td>\n",
       "      <td>0.007240</td>\n",
       "      <td>-0.007240</td>\n",
       "      <td>0.660429</td>\n",
       "      <td>0.852873</td>\n",
       "      <td>1.000000</td>\n",
       "    </tr>\n",
       "  </tbody>\n",
       "</table>\n",
       "</div>"
      ],
      "text/plain": [
       "                     Gender   Married  Dependents  Education  Self_Employed  \\\n",
       "Gender             1.000000  0.364569    0.172914   0.045364      -0.000525   \n",
       "Married            0.364569  1.000000    0.334216   0.012304       0.004489   \n",
       "Dependents         0.172914  0.334216    1.000000   0.055752       0.056798   \n",
       "Education          0.045364  0.012304    0.055752   1.000000      -0.010383   \n",
       "Self_Employed     -0.000525  0.004489    0.056798  -0.010383       1.000000   \n",
       "ApplicantIncome    0.058809  0.051708    0.118202  -0.140760       0.127180   \n",
       "CoapplicantIncome  0.082912  0.075948    0.030430  -0.062290      -0.016100   \n",
       "LoanAmount         0.106096  0.146279    0.162710  -0.173683       0.120030   \n",
       "Loan_Amount_Term  -0.074030 -0.100912   -0.103864  -0.073928      -0.033739   \n",
       "Credit_History     0.009170  0.010938   -0.040160  -0.073658      -0.001550   \n",
       "Property_Area     -0.025752  0.004257   -0.000244  -0.065243      -0.030860   \n",
       "Loan_Status        0.017987  0.091478    0.010118  -0.085884      -0.003700   \n",
       "loan_status_word        NaN       NaN         NaN        NaN            NaN   \n",
       "loanY              0.017987  0.091478    0.010118  -0.085884      -0.003700   \n",
       "loanN             -0.017987 -0.091478   -0.010118   0.085884       0.003700   \n",
       "LoanAmount_log     0.142339  0.179366    0.155968  -0.152593       0.115678   \n",
       "TotalIncome        0.093191  0.083319    0.125590  -0.161362       0.113000   \n",
       "TotalIncome_log    0.167285  0.151527    0.112812  -0.204861       0.176709   \n",
       "\n",
       "                   ApplicantIncome  CoapplicantIncome  LoanAmount  \\\n",
       "Gender                    0.058809           0.082912    0.106096   \n",
       "Married                   0.051708           0.075948    0.146279   \n",
       "Dependents                0.118202           0.030430    0.162710   \n",
       "Education                -0.140760          -0.062290   -0.173683   \n",
       "Self_Employed             0.127180          -0.016100    0.120030   \n",
       "ApplicantIncome           1.000000          -0.116605    0.565940   \n",
       "CoapplicantIncome        -0.116605           1.000000    0.188128   \n",
       "LoanAmount                0.565940           0.188128    1.000000   \n",
       "Loan_Amount_Term         -0.046531          -0.059383    0.038536   \n",
       "Credit_History           -0.018615           0.011134   -0.000630   \n",
       "Property_Area            -0.009500           0.010522   -0.048304   \n",
       "Loan_Status              -0.004710          -0.059187   -0.031618   \n",
       "loan_status_word               NaN                NaN         NaN   \n",
       "loanY                    -0.004710          -0.059187   -0.031618   \n",
       "loanN                     0.004710           0.059187    0.031618   \n",
       "LoanAmount_log            0.436463           0.204967    0.895868   \n",
       "TotalIncome               0.893037           0.342781    0.620540   \n",
       "TotalIncome_log           0.717829           0.383827    0.688600   \n",
       "\n",
       "                   Loan_Amount_Term  Credit_History  Property_Area  \\\n",
       "Gender                    -0.074030        0.009170      -0.025752   \n",
       "Married                   -0.100912        0.010938       0.004257   \n",
       "Dependents                -0.103864       -0.040160      -0.000244   \n",
       "Education                 -0.073928       -0.073658      -0.065243   \n",
       "Self_Employed             -0.033739       -0.001550      -0.030860   \n",
       "ApplicantIncome           -0.046531       -0.018615      -0.009500   \n",
       "CoapplicantIncome         -0.059383        0.011134       0.010522   \n",
       "LoanAmount                 0.038536       -0.000630      -0.048304   \n",
       "Loan_Amount_Term           1.000000       -0.004705      -0.076120   \n",
       "Credit_History            -0.004705        1.000000       0.001963   \n",
       "Property_Area             -0.076120        0.001963       1.000000   \n",
       "Loan_Status               -0.022549        0.540556       0.032112   \n",
       "loan_status_word                NaN             NaN            NaN   \n",
       "loanY                     -0.022549        0.540556       0.032112   \n",
       "loanN                      0.022549       -0.540556      -0.032112   \n",
       "LoanAmount_log             0.087421       -0.018373      -0.097396   \n",
       "TotalIncome               -0.070917       -0.012563      -0.004218   \n",
       "TotalIncome_log           -0.056044        0.020791      -0.046246   \n",
       "\n",
       "                   Loan_Status  loan_status_word     loanY     loanN  \\\n",
       "Gender                0.017987               NaN  0.017987 -0.017987   \n",
       "Married               0.091478               NaN  0.091478 -0.091478   \n",
       "Dependents            0.010118               NaN  0.010118 -0.010118   \n",
       "Education            -0.085884               NaN -0.085884  0.085884   \n",
       "Self_Employed        -0.003700               NaN -0.003700  0.003700   \n",
       "ApplicantIncome      -0.004710               NaN -0.004710  0.004710   \n",
       "CoapplicantIncome    -0.059187               NaN -0.059187  0.059187   \n",
       "LoanAmount           -0.031618               NaN -0.031618  0.031618   \n",
       "Loan_Amount_Term     -0.022549               NaN -0.022549  0.022549   \n",
       "Credit_History        0.540556               NaN  0.540556 -0.540556   \n",
       "Property_Area         0.032112               NaN  0.032112 -0.032112   \n",
       "Loan_Status           1.000000               NaN  1.000000 -1.000000   \n",
       "loan_status_word           NaN               NaN       NaN       NaN   \n",
       "loanY                 1.000000               NaN  1.000000 -1.000000   \n",
       "loanN                -1.000000               NaN -1.000000  1.000000   \n",
       "LoanAmount_log       -0.035713               NaN -0.035713  0.035713   \n",
       "TotalIncome          -0.031271               NaN -0.031271  0.031271   \n",
       "TotalIncome_log       0.007240               NaN  0.007240 -0.007240   \n",
       "\n",
       "                   LoanAmount_log  TotalIncome  TotalIncome_log  \n",
       "Gender                   0.142339     0.093191         0.167285  \n",
       "Married                  0.179366     0.083319         0.151527  \n",
       "Dependents               0.155968     0.125590         0.112812  \n",
       "Education               -0.152593    -0.161362        -0.204861  \n",
       "Self_Employed            0.115678     0.113000         0.176709  \n",
       "ApplicantIncome          0.436463     0.893037         0.717829  \n",
       "CoapplicantIncome        0.204967     0.342781         0.383827  \n",
       "LoanAmount               0.895868     0.620540         0.688600  \n",
       "Loan_Amount_Term         0.087421    -0.070917        -0.056044  \n",
       "Credit_History          -0.018373    -0.012563         0.020791  \n",
       "Property_Area           -0.097396    -0.004218        -0.046246  \n",
       "Loan_Status             -0.035713    -0.031271         0.007240  \n",
       "loan_status_word              NaN          NaN              NaN  \n",
       "loanY                   -0.035713    -0.031271         0.007240  \n",
       "loanN                    0.035713     0.031271        -0.007240  \n",
       "LoanAmount_log           1.000000     0.505701         0.660429  \n",
       "TotalIncome              0.505701     1.000000         0.852873  \n",
       "TotalIncome_log          0.660429     0.852873         1.000000  "
      ]
     },
     "execution_count": 52,
     "metadata": {},
     "output_type": "execute_result"
    }
   ],
   "source": [
    "df.corr() # correlation coeff"
   ]
  },
  {
   "cell_type": "markdown",
   "metadata": {},
   "source": [
    "More on correlation [here](http://www.slideshare.net/EricMarsden1/modelling-correlations-using-python)"
   ]
  },
  {
   "cell_type": "code",
   "execution_count": 53,
   "metadata": {
    "collapsed": false
   },
   "outputs": [
    {
     "data": {
      "text/plain": [
       "<matplotlib.image.AxesImage at 0x9714f70>"
      ]
     },
     "execution_count": 53,
     "metadata": {},
     "output_type": "execute_result"
    },
    {
     "data": {
      "image/png": "[encoded data removed]",
      "text/plain": [
       "<matplotlib.figure.Figure at 0x96d2a10>"
      ]
     },
     "metadata": {},
     "output_type": "display_data"
    }
   ],
   "source": [
    "imshow(df.corr())"
   ]
  },
  {
   "cell_type": "code",
   "execution_count": null,
   "metadata": {
    "collapsed": true
   },
   "outputs": [],
   "source": []
  }
 ],
 "metadata": {
  "anaconda-cloud": {},
  "celltoolbar": "Raw Cell Format",
  "kernelspec": {
   "display_name": "Python [default]",
   "language": "python",
   "name": "python3"
  },
  "language_info": {
   "codemirror_mode": {
    "name": "ipython",
    "version": 3
   },
   "file_extension": ".py",
   "mimetype": "text/x-python",
   "name": "python",
   "nbconvert_exporter": "python",
   "pygments_lexer": "ipython3",
   "version": "3.5.2"
  }
 },
 "nbformat": 4,
 "nbformat_minor": 1
}
