{
 "cells": [
  {
   "cell_type": "markdown",
   "metadata": {},
   "source": [
    "# Modeling NYC Community Gardens\n",
    "From [here](https://data.cityofnewyork.us/Environment/NYC-Greenthumb-Community-Gardens/ajxm-kzmj/data)\n",
    "\n",
    "need modules for:\n",
    "\n",
    "- moving files/changing paths\n",
    "- manipulating data [pandas]\n",
    "  - reading csv files\n",
    "- calculations [numpy]\n",
    "- plotting/visualisations [matplotlib]"
   ]
  },
  {
   "cell_type": "code",
   "execution_count": 1,
   "metadata": {
    "collapsed": false
   },
   "outputs": [
    {
     "name": "stdout",
     "output_type": "stream",
     "text": [
      "Populating the interactive namespace from numpy and matplotlib\n"
     ]
    }
   ],
   "source": [
    "# imports matlab and numpy\n",
    "%pylab inline \n",
    "import os\n",
    "import pandas as pd\n",
    "import matplotlib.pyplot as plt\n",
    "from pandas.tools.plotting import scatter_matrix"
   ]
  },
  {
   "cell_type": "code",
   "execution_count": 2,
   "metadata": {
    "collapsed": false
   },
   "outputs": [],
   "source": [
    "path = r'C:\\Users\\danielle.leong\\Downloads\\NYC_Greenthumb_Community_Gardens.csv'\n",
    "df = pd.read_csv(path)"
   ]
  },
  {
   "cell_type": "code",
   "execution_count": 3,
   "metadata": {
    "collapsed": false
   },
   "outputs": [
    {
     "data": {
      "text/html": [
       "<div>\n",
       "<table border=\"1\" class=\"dataframe\">\n",
       "  <thead>\n",
       "    <tr style=\"text-align: right;\">\n",
       "      <th></th>\n",
       "      <th>PropID</th>\n",
       "      <th>Boro</th>\n",
       "      <th>Community Board</th>\n",
       "      <th>Council District</th>\n",
       "      <th>Garden Name</th>\n",
       "      <th>Address</th>\n",
       "      <th>Size</th>\n",
       "      <th>Jurisdiction</th>\n",
       "      <th>NeighborhoodName</th>\n",
       "      <th>Cross Streets</th>\n",
       "    </tr>\n",
       "  </thead>\n",
       "  <tbody>\n",
       "    <tr>\n",
       "      <th>0</th>\n",
       "      <td>NaN</td>\n",
       "      <td>M</td>\n",
       "      <td>M03</td>\n",
       "      <td>2.0</td>\n",
       "      <td>11 BC Serenity Garden</td>\n",
       "      <td>626 East 11th Street</td>\n",
       "      <td>0.054</td>\n",
       "      <td>DPR</td>\n",
       "      <td>East Village</td>\n",
       "      <td>Avenues B &amp; C</td>\n",
       "    </tr>\n",
       "    <tr>\n",
       "      <th>1</th>\n",
       "      <td>NaN</td>\n",
       "      <td>B</td>\n",
       "      <td>B08</td>\n",
       "      <td>36.0</td>\n",
       "      <td>1100 Bergen Street Community Garden</td>\n",
       "      <td>1101 &amp; 1105 Bergen Street</td>\n",
       "      <td>0.207</td>\n",
       "      <td>PRI</td>\n",
       "      <td>Crown Heights</td>\n",
       "      <td>Nostrand &amp; New York Avenues</td>\n",
       "    </tr>\n",
       "    <tr>\n",
       "      <th>2</th>\n",
       "      <td>M382</td>\n",
       "      <td>M</td>\n",
       "      <td>M11</td>\n",
       "      <td>9.0</td>\n",
       "      <td>110th Street Block Association</td>\n",
       "      <td>1651 Madison Avenue</td>\n",
       "      <td>0.043</td>\n",
       "      <td>DPR</td>\n",
       "      <td>East Harlem</td>\n",
       "      <td>Active</td>\n",
       "    </tr>\n",
       "    <tr>\n",
       "      <th>3</th>\n",
       "      <td>M331</td>\n",
       "      <td>M</td>\n",
       "      <td>M11</td>\n",
       "      <td>8.0</td>\n",
       "      <td>117th Street Community Garden</td>\n",
       "      <td>172 E 117th Street</td>\n",
       "      <td>0.080</td>\n",
       "      <td>DPR</td>\n",
       "      <td>East Harlem</td>\n",
       "      <td>Active</td>\n",
       "    </tr>\n",
       "    <tr>\n",
       "      <th>4</th>\n",
       "      <td>NaN</td>\n",
       "      <td>M</td>\n",
       "      <td>M03</td>\n",
       "      <td>2.0</td>\n",
       "      <td>11th Street Community Garden</td>\n",
       "      <td>422 East 11th Street</td>\n",
       "      <td>0.054</td>\n",
       "      <td>TPL</td>\n",
       "      <td>East Village</td>\n",
       "      <td>1st Avenue &amp; Avenue A</td>\n",
       "    </tr>\n",
       "  </tbody>\n",
       "</table>\n",
       "</div>"
      ],
      "text/plain": [
       "  PropID Boro Community Board  Council District  \\\n",
       "0    NaN    M             M03               2.0   \n",
       "1    NaN    B             B08              36.0   \n",
       "2   M382    M             M11               9.0   \n",
       "3   M331    M             M11               8.0   \n",
       "4    NaN    M             M03               2.0   \n",
       "\n",
       "                           Garden Name                    Address   Size  \\\n",
       "0                11 BC Serenity Garden       626 East 11th Street  0.054   \n",
       "1  1100 Bergen Street Community Garden  1101 & 1105 Bergen Street  0.207   \n",
       "2       110th Street Block Association        1651 Madison Avenue  0.043   \n",
       "3        117th Street Community Garden         172 E 117th Street  0.080   \n",
       "4         11th Street Community Garden       422 East 11th Street  0.054   \n",
       "\n",
       "  Jurisdiction NeighborhoodName                Cross Streets  \n",
       "0          DPR     East Village                Avenues B & C  \n",
       "1          PRI    Crown Heights  Nostrand & New York Avenues  \n",
       "2          DPR      East Harlem                       Active  \n",
       "3          DPR      East Harlem                       Active  \n",
       "4          TPL     East Village        1st Avenue & Avenue A  "
      ]
     },
     "execution_count": 3,
     "metadata": {},
     "output_type": "execute_result"
    }
   ],
   "source": [
    "df.head() \n",
    "# size in acres"
   ]
  },
  {
   "cell_type": "code",
   "execution_count": 4,
   "metadata": {
    "collapsed": false
   },
   "outputs": [
    {
     "data": {
      "text/html": [
       "<div>\n",
       "<table border=\"1\" class=\"dataframe\">\n",
       "  <thead>\n",
       "    <tr style=\"text-align: right;\">\n",
       "      <th></th>\n",
       "      <th>Council District</th>\n",
       "      <th>Size</th>\n",
       "    </tr>\n",
       "  </thead>\n",
       "  <tbody>\n",
       "    <tr>\n",
       "      <th>count</th>\n",
       "      <td>495.000000</td>\n",
       "      <td>429.000000</td>\n",
       "    </tr>\n",
       "    <tr>\n",
       "      <th>mean</th>\n",
       "      <td>21.060606</td>\n",
       "      <td>0.167056</td>\n",
       "    </tr>\n",
       "    <tr>\n",
       "      <th>std</th>\n",
       "      <td>15.278268</td>\n",
       "      <td>0.230718</td>\n",
       "    </tr>\n",
       "    <tr>\n",
       "      <th>min</th>\n",
       "      <td>0.000000</td>\n",
       "      <td>0.005000</td>\n",
       "    </tr>\n",
       "    <tr>\n",
       "      <th>25%</th>\n",
       "      <td>8.000000</td>\n",
       "      <td>0.057000</td>\n",
       "    </tr>\n",
       "    <tr>\n",
       "      <th>50%</th>\n",
       "      <td>17.000000</td>\n",
       "      <td>0.108000</td>\n",
       "    </tr>\n",
       "    <tr>\n",
       "      <th>75%</th>\n",
       "      <td>36.000000</td>\n",
       "      <td>0.186000</td>\n",
       "    </tr>\n",
       "    <tr>\n",
       "      <th>max</th>\n",
       "      <td>49.000000</td>\n",
       "      <td>2.712000</td>\n",
       "    </tr>\n",
       "  </tbody>\n",
       "</table>\n",
       "</div>"
      ],
      "text/plain": [
       "       Council District        Size\n",
       "count        495.000000  429.000000\n",
       "mean          21.060606    0.167056\n",
       "std           15.278268    0.230718\n",
       "min            0.000000    0.005000\n",
       "25%            8.000000    0.057000\n",
       "50%           17.000000    0.108000\n",
       "75%           36.000000    0.186000\n",
       "max           49.000000    2.712000"
      ]
     },
     "execution_count": 4,
     "metadata": {},
     "output_type": "execute_result"
    }
   ],
   "source": [
    "df.describe()\n",
    "# seems to be missing values for contract value(?)"
   ]
  },
  {
   "cell_type": "code",
   "execution_count": 5,
   "metadata": {
    "collapsed": false
   },
   "outputs": [
    {
     "data": {
      "text/plain": [
       "Index(['PropID', 'Boro', 'Community Board', 'Council District', 'Garden Name',\n",
       "       'Address', 'Size', 'Jurisdiction', 'NeighborhoodName', 'Cross Streets'],\n",
       "      dtype='object')"
      ]
     },
     "execution_count": 5,
     "metadata": {},
     "output_type": "execute_result"
    }
   ],
   "source": [
    "df.keys()"
   ]
  },
  {
   "cell_type": "markdown",
   "metadata": {},
   "source": [
    "Possible Correlations\n",
    "- size[cum] + borough\n",
    "- neighborhood + size[cum]\n",
    "\n",
    "Need to create new columns/df of cum size"
   ]
  },
  {
   "cell_type": "code",
   "execution_count": 6,
   "metadata": {
    "collapsed": false,
    "scrolled": true
   },
   "outputs": [
    {
     "data": {
      "text/plain": [
       "East New York               45\n",
       "East Village                35\n",
       "East Harlem                 32\n",
       "Bed-Stuy                    29\n",
       "Brownsville                 13\n",
       "Melrose                     11\n",
       "Park Slope                   8\n",
       "Hamilton Heights             8\n",
       "Harlem                       8\n",
       "Washington Heights           8\n",
       "Williamsburg                 7\n",
       "Upper West Side              7\n",
       "Crown Heights                7\n",
       "Lower East Side              7\n",
       "Highbridge                   6\n",
       "Bushwick                     5\n",
       "Morrisania                   5\n",
       "Red Hook                     5\n",
       "Coney Island                 5\n",
       "Prospect Heights             4\n",
       "Central Harlem               4\n",
       "West Harlem                  3\n",
       "Clinton Hill                 3\n",
       "Jamaica                      3\n",
       "Far Rockaway                 3\n",
       "Boerum Hill                  3\n",
       "Corona                       3\n",
       "Hell's Kitchen               3\n",
       "Crotona                      2\n",
       "Kensington                   2\n",
       "                            ..\n",
       "Midtown                      1\n",
       "Forest Hills                 1\n",
       "Kingbridge Heights           1\n",
       "So. Ozone Park               1\n",
       "Brooklyn Heights             1\n",
       "Upper East Side              1\n",
       "Cambria Heights              1\n",
       "Roosevelt Island             1\n",
       "Kingsbridge Heights          1\n",
       "Greenpoint                   1\n",
       "East Williamsburg            1\n",
       "Sunset Park                  1\n",
       "Marble Hill                  1\n",
       "\\r\\nMelrose                  1\n",
       "Ocean Hill / Brownsville     1\n",
       "West Village                 1\n",
       "Springfield Gardens          1\n",
       "Inwood                       1\n",
       "Ozone Park                   1\n",
       "Grand Concourse              1\n",
       "West Farms                   1\n",
       "Soundview                    1\n",
       "Greenwich Village            1\n",
       "Hunt's Point                 1\n",
       "North Flatbush               1\n",
       "Wakefield                    1\n",
       "Downtown Manhattan           1\n",
       "Chelsey                      1\n",
       "Belmont                      1\n",
       "Highland Park                1\n",
       "Name: NeighborhoodName, dtype: int64"
      ]
     },
     "execution_count": 6,
     "metadata": {},
     "output_type": "execute_result"
    }
   ],
   "source": [
    "df['NeighborhoodName'].value_counts()"
   ]
  },
  {
   "cell_type": "code",
   "execution_count": 7,
   "metadata": {
    "collapsed": false
   },
   "outputs": [],
   "source": [
    "uNbhdNames = df['NeighborhoodName'].unique()\n",
    "csize = []\n",
    "for name in uNbhdNames:\n",
    "    x = df.loc[df['NeighborhoodName'] == name]\n",
    "    csize.append(x['Size'].sum())\n",
    "\n",
    "# mtx = uNbhdNames.join(csize)"
   ]
  },
  {
   "cell_type": "code",
   "execution_count": 8,
   "metadata": {
    "collapsed": false
   },
   "outputs": [],
   "source": [
    "uNbhdNames = pd.Series(uNbhdNames)\n",
    "type(uNbhdNames)\n",
    "csize = pd.Series(csize)\n",
    "\n",
    "mergedtable = pd.concat([uNbhdNames, csize], axis = 1)\n"
   ]
  },
  {
   "cell_type": "code",
   "execution_count": 9,
   "metadata": {
    "collapsed": false,
    "scrolled": true
   },
   "outputs": [
    {
     "data": {
      "text/html": [
       "<div>\n",
       "<table border=\"1\" class=\"dataframe\">\n",
       "  <thead>\n",
       "    <tr style=\"text-align: right;\">\n",
       "      <th></th>\n",
       "      <th>Region</th>\n",
       "      <th>Total Area</th>\n",
       "    </tr>\n",
       "  </thead>\n",
       "  <tbody>\n",
       "    <tr>\n",
       "      <th>0</th>\n",
       "      <td>East Village</td>\n",
       "      <td>5.473</td>\n",
       "    </tr>\n",
       "    <tr>\n",
       "      <th>1</th>\n",
       "      <td>Crown Heights</td>\n",
       "      <td>1.078</td>\n",
       "    </tr>\n",
       "    <tr>\n",
       "      <th>2</th>\n",
       "      <td>East Harlem</td>\n",
       "      <td>3.129</td>\n",
       "    </tr>\n",
       "    <tr>\n",
       "      <th>3</th>\n",
       "      <td>NaN</td>\n",
       "      <td>0.000</td>\n",
       "    </tr>\n",
       "    <tr>\n",
       "      <th>4</th>\n",
       "      <td>East New York</td>\n",
       "      <td>6.274</td>\n",
       "    </tr>\n",
       "    <tr>\n",
       "      <th>5</th>\n",
       "      <td>Park Slope</td>\n",
       "      <td>1.368</td>\n",
       "    </tr>\n",
       "    <tr>\n",
       "      <th>6</th>\n",
       "      <td>Sunset Park</td>\n",
       "      <td>0.000</td>\n",
       "    </tr>\n",
       "    <tr>\n",
       "      <th>7</th>\n",
       "      <td>Bed-Stuy</td>\n",
       "      <td>3.661</td>\n",
       "    </tr>\n",
       "    <tr>\n",
       "      <th>8</th>\n",
       "      <td>Corona</td>\n",
       "      <td>0.357</td>\n",
       "    </tr>\n",
       "    <tr>\n",
       "      <th>9</th>\n",
       "      <td>Melrose</td>\n",
       "      <td>1.129</td>\n",
       "    </tr>\n",
       "    <tr>\n",
       "      <th>10</th>\n",
       "      <td>Red Hook</td>\n",
       "      <td>0.504</td>\n",
       "    </tr>\n",
       "    <tr>\n",
       "      <th>11</th>\n",
       "      <td>Lower East Side</td>\n",
       "      <td>1.377</td>\n",
       "    </tr>\n",
       "    <tr>\n",
       "      <th>12</th>\n",
       "      <td>Far Rockaway</td>\n",
       "      <td>0.276</td>\n",
       "    </tr>\n",
       "    <tr>\n",
       "      <th>13</th>\n",
       "      <td>Belmont</td>\n",
       "      <td>0.100</td>\n",
       "    </tr>\n",
       "    <tr>\n",
       "      <th>14</th>\n",
       "      <td>Williamsburg</td>\n",
       "      <td>0.573</td>\n",
       "    </tr>\n",
       "    <tr>\n",
       "      <th>15</th>\n",
       "      <td>Jamaica</td>\n",
       "      <td>0.327</td>\n",
       "    </tr>\n",
       "    <tr>\n",
       "      <th>16</th>\n",
       "      <td>Hamilton Heights</td>\n",
       "      <td>0.933</td>\n",
       "    </tr>\n",
       "    <tr>\n",
       "      <th>17</th>\n",
       "      <td>Clinton Hill</td>\n",
       "      <td>0.298</td>\n",
       "    </tr>\n",
       "    <tr>\n",
       "      <th>18</th>\n",
       "      <td>Downtown Brooklyn</td>\n",
       "      <td>0.082</td>\n",
       "    </tr>\n",
       "    <tr>\n",
       "      <th>19</th>\n",
       "      <td>Hunt's Point</td>\n",
       "      <td>0.340</td>\n",
       "    </tr>\n",
       "    <tr>\n",
       "      <th>20</th>\n",
       "      <td>Mt. Eden</td>\n",
       "      <td>0.150</td>\n",
       "    </tr>\n",
       "    <tr>\n",
       "      <th>21</th>\n",
       "      <td>Morrisania</td>\n",
       "      <td>0.493</td>\n",
       "    </tr>\n",
       "    <tr>\n",
       "      <th>22</th>\n",
       "      <td>Tremont</td>\n",
       "      <td>0.000</td>\n",
       "    </tr>\n",
       "    <tr>\n",
       "      <th>23</th>\n",
       "      <td>Cambria Heights</td>\n",
       "      <td>0.207</td>\n",
       "    </tr>\n",
       "    <tr>\n",
       "      <th>24</th>\n",
       "      <td>Wakefield</td>\n",
       "      <td>0.000</td>\n",
       "    </tr>\n",
       "    <tr>\n",
       "      <th>25</th>\n",
       "      <td>Mott Haven</td>\n",
       "      <td>0.119</td>\n",
       "    </tr>\n",
       "    <tr>\n",
       "      <th>26</th>\n",
       "      <td>West Village</td>\n",
       "      <td>0.110</td>\n",
       "    </tr>\n",
       "    <tr>\n",
       "      <th>27</th>\n",
       "      <td>Hell's Kitchen</td>\n",
       "      <td>0.465</td>\n",
       "    </tr>\n",
       "    <tr>\n",
       "      <th>28</th>\n",
       "      <td>Bushwick</td>\n",
       "      <td>0.743</td>\n",
       "    </tr>\n",
       "    <tr>\n",
       "      <th>29</th>\n",
       "      <td>Boerum Hill</td>\n",
       "      <td>0.105</td>\n",
       "    </tr>\n",
       "    <tr>\n",
       "      <th>...</th>\n",
       "      <td>...</td>\n",
       "      <td>...</td>\n",
       "    </tr>\n",
       "    <tr>\n",
       "      <th>38</th>\n",
       "      <td>Crotona</td>\n",
       "      <td>0.330</td>\n",
       "    </tr>\n",
       "    <tr>\n",
       "      <th>39</th>\n",
       "      <td>Upper West Side</td>\n",
       "      <td>0.745</td>\n",
       "    </tr>\n",
       "    <tr>\n",
       "      <th>40</th>\n",
       "      <td>Springfield Gardens</td>\n",
       "      <td>0.138</td>\n",
       "    </tr>\n",
       "    <tr>\n",
       "      <th>41</th>\n",
       "      <td>Greenpoint</td>\n",
       "      <td>0.000</td>\n",
       "    </tr>\n",
       "    <tr>\n",
       "      <th>42</th>\n",
       "      <td>Midtown</td>\n",
       "      <td>0.000</td>\n",
       "    </tr>\n",
       "    <tr>\n",
       "      <th>43</th>\n",
       "      <td>Highland Park</td>\n",
       "      <td>0.410</td>\n",
       "    </tr>\n",
       "    <tr>\n",
       "      <th>44</th>\n",
       "      <td>Ocean Hill / Brownsville</td>\n",
       "      <td>0.320</td>\n",
       "    </tr>\n",
       "    <tr>\n",
       "      <th>45</th>\n",
       "      <td>Marble Hill</td>\n",
       "      <td>0.000</td>\n",
       "    </tr>\n",
       "    <tr>\n",
       "      <th>46</th>\n",
       "      <td>Highbridge</td>\n",
       "      <td>1.309</td>\n",
       "    </tr>\n",
       "    <tr>\n",
       "      <th>47</th>\n",
       "      <td>Greenwich Village</td>\n",
       "      <td>0.080</td>\n",
       "    </tr>\n",
       "    <tr>\n",
       "      <th>48</th>\n",
       "      <td>Long Island City</td>\n",
       "      <td>0.172</td>\n",
       "    </tr>\n",
       "    <tr>\n",
       "      <th>49</th>\n",
       "      <td>Upper East Side</td>\n",
       "      <td>0.000</td>\n",
       "    </tr>\n",
       "    <tr>\n",
       "      <th>50</th>\n",
       "      <td>Ozone Park</td>\n",
       "      <td>0.000</td>\n",
       "    </tr>\n",
       "    <tr>\n",
       "      <th>51</th>\n",
       "      <td>Prospect Heights</td>\n",
       "      <td>0.268</td>\n",
       "    </tr>\n",
       "    <tr>\n",
       "      <th>52</th>\n",
       "      <td>Schuylerville</td>\n",
       "      <td>0.000</td>\n",
       "    </tr>\n",
       "    <tr>\n",
       "      <th>53</th>\n",
       "      <td>Chelsey</td>\n",
       "      <td>0.000</td>\n",
       "    </tr>\n",
       "    <tr>\n",
       "      <th>54</th>\n",
       "      <td>Flushing</td>\n",
       "      <td>0.010</td>\n",
       "    </tr>\n",
       "    <tr>\n",
       "      <th>55</th>\n",
       "      <td>North Flatbush</td>\n",
       "      <td>0.000</td>\n",
       "    </tr>\n",
       "    <tr>\n",
       "      <th>56</th>\n",
       "      <td>Kingbridge Heights</td>\n",
       "      <td>0.000</td>\n",
       "    </tr>\n",
       "    <tr>\n",
       "      <th>57</th>\n",
       "      <td>Grand Concourse</td>\n",
       "      <td>0.000</td>\n",
       "    </tr>\n",
       "    <tr>\n",
       "      <th>58</th>\n",
       "      <td>So. Ozone Park</td>\n",
       "      <td>0.000</td>\n",
       "    </tr>\n",
       "    <tr>\n",
       "      <th>59</th>\n",
       "      <td>Roosevelt Island</td>\n",
       "      <td>0.000</td>\n",
       "    </tr>\n",
       "    <tr>\n",
       "      <th>60</th>\n",
       "      <td>Brooklyn Heights</td>\n",
       "      <td>0.028</td>\n",
       "    </tr>\n",
       "    <tr>\n",
       "      <th>61</th>\n",
       "      <td>Forest Hills</td>\n",
       "      <td>0.108</td>\n",
       "    </tr>\n",
       "    <tr>\n",
       "      <th>62</th>\n",
       "      <td>Inwood</td>\n",
       "      <td>0.115</td>\n",
       "    </tr>\n",
       "    <tr>\n",
       "      <th>63</th>\n",
       "      <td>West Farms</td>\n",
       "      <td>0.440</td>\n",
       "    </tr>\n",
       "    <tr>\n",
       "      <th>64</th>\n",
       "      <td>Coney Island</td>\n",
       "      <td>0.525</td>\n",
       "    </tr>\n",
       "    <tr>\n",
       "      <th>65</th>\n",
       "      <td>East Williamsburg</td>\n",
       "      <td>0.114</td>\n",
       "    </tr>\n",
       "    <tr>\n",
       "      <th>66</th>\n",
       "      <td>Kingsbridge Heights</td>\n",
       "      <td>0.046</td>\n",
       "    </tr>\n",
       "    <tr>\n",
       "      <th>67</th>\n",
       "      <td>Soundview</td>\n",
       "      <td>0.270</td>\n",
       "    </tr>\n",
       "  </tbody>\n",
       "</table>\n",
       "<p>68 rows × 2 columns</p>\n",
       "</div>"
      ],
      "text/plain": [
       "                      Region  Total Area\n",
       "0               East Village       5.473\n",
       "1              Crown Heights       1.078\n",
       "2                East Harlem       3.129\n",
       "3                        NaN       0.000\n",
       "4              East New York       6.274\n",
       "5                 Park Slope       1.368\n",
       "6                Sunset Park       0.000\n",
       "7                   Bed-Stuy       3.661\n",
       "8                     Corona       0.357\n",
       "9                    Melrose       1.129\n",
       "10                  Red Hook       0.504\n",
       "11           Lower East Side       1.377\n",
       "12              Far Rockaway       0.276\n",
       "13                   Belmont       0.100\n",
       "14              Williamsburg       0.573\n",
       "15                   Jamaica       0.327\n",
       "16          Hamilton Heights       0.933\n",
       "17              Clinton Hill       0.298\n",
       "18         Downtown Brooklyn       0.082\n",
       "19              Hunt's Point       0.340\n",
       "20                  Mt. Eden       0.150\n",
       "21                Morrisania       0.493\n",
       "22                   Tremont       0.000\n",
       "23           Cambria Heights       0.207\n",
       "24                 Wakefield       0.000\n",
       "25                Mott Haven       0.119\n",
       "26              West Village       0.110\n",
       "27            Hell's Kitchen       0.465\n",
       "28                  Bushwick       0.743\n",
       "29               Boerum Hill       0.105\n",
       "..                       ...         ...\n",
       "38                   Crotona       0.330\n",
       "39           Upper West Side       0.745\n",
       "40       Springfield Gardens       0.138\n",
       "41                Greenpoint       0.000\n",
       "42                   Midtown       0.000\n",
       "43             Highland Park       0.410\n",
       "44  Ocean Hill / Brownsville       0.320\n",
       "45               Marble Hill       0.000\n",
       "46                Highbridge       1.309\n",
       "47         Greenwich Village       0.080\n",
       "48          Long Island City       0.172\n",
       "49           Upper East Side       0.000\n",
       "50                Ozone Park       0.000\n",
       "51          Prospect Heights       0.268\n",
       "52             Schuylerville       0.000\n",
       "53                   Chelsey       0.000\n",
       "54                  Flushing       0.010\n",
       "55            North Flatbush       0.000\n",
       "56        Kingbridge Heights       0.000\n",
       "57           Grand Concourse       0.000\n",
       "58            So. Ozone Park       0.000\n",
       "59          Roosevelt Island       0.000\n",
       "60          Brooklyn Heights       0.028\n",
       "61              Forest Hills       0.108\n",
       "62                    Inwood       0.115\n",
       "63                West Farms       0.440\n",
       "64              Coney Island       0.525\n",
       "65         East Williamsburg       0.114\n",
       "66       Kingsbridge Heights       0.046\n",
       "67                 Soundview       0.270\n",
       "\n",
       "[68 rows x 2 columns]"
      ]
     },
     "execution_count": 9,
     "metadata": {},
     "output_type": "execute_result"
    }
   ],
   "source": [
    "mergedtable.columns = ['Region', 'Total Area']\n",
    "mergedtable"
   ]
  },
  {
   "cell_type": "code",
   "execution_count": 35,
   "metadata": {
    "collapsed": false
   },
   "outputs": [
    {
     "data": {
      "text/plain": [
       "pandas.core.frame.DataFrame"
      ]
     },
     "execution_count": 35,
     "metadata": {},
     "output_type": "execute_result"
    }
   ],
   "source": [
    "districts = pd.Series(df['Council District'].unique())\n",
    "dst_area = []\n",
    "for dist in districts:\n",
    "    areas = df.loc[df['Council District'] == dist]\n",
    "    dst_area.append(areas['Size'].sum)\n",
    "dst_area = pd.Series(dst_area)\n",
    "type(dst_area)\n",
    "type(areas)"
   ]
  },
  {
   "cell_type": "code",
   "execution_count": 16,
   "metadata": {
    "collapsed": true
   },
   "outputs": [],
   "source": [
    "dist_cg_sz = pd.concat([districts, dst_area], axis = 1)"
   ]
  },
  {
   "cell_type": "code",
   "execution_count": null,
   "metadata": {
    "collapsed": true
   },
   "outputs": [],
   "source": []
  },
  {
   "cell_type": "markdown",
   "metadata": {},
   "source": [
    "Solution for getting based on neighborhood names [here](http://stackoverflow.com/questions/17071871/select-rows-from-a-dataframe-based-on-values-in-a-column-in-pandas/17071908#17071908)"
   ]
  },
  {
   "cell_type": "code",
   "execution_count": 14,
   "metadata": {
    "collapsed": false
   },
   "outputs": [
    {
     "data": {
      "image/png": "[encoded data removed]",
      "text/plain": [
       "<matplotlib.figure.Figure at 0x8170eb0>"
      ]
     },
     "metadata": {},
     "output_type": "display_data"
    }
   ],
   "source": [
    "scatter_matrix(df)\n",
    "plt.show()"
   ]
  },
  {
   "cell_type": "code",
   "execution_count": 17,
   "metadata": {
    "collapsed": false
   },
   "outputs": [
    {
     "data": {
      "text/plain": [
       "PropID              263\n",
       "Boro                  0\n",
       "Community Board       5\n",
       "Council District     41\n",
       "Garden Name           0\n",
       "Address               1\n",
       "Size                107\n",
       "Jurisdiction          0\n",
       "NeighborhoodName    213\n",
       "Cross Streets        72\n",
       "dtype: int64"
      ]
     },
     "execution_count": 17,
     "metadata": {},
     "output_type": "execute_result"
    }
   ],
   "source": [
    "df.apply(lambda x: sum(x.isnull()),axis=0) \n",
    "# missing values"
   ]
  },
  {
   "cell_type": "code",
   "execution_count": 20,
   "metadata": {
    "collapsed": false
   },
   "outputs": [],
   "source": [
    "cg_per = df['NeighborhoodName'].value_counts()"
   ]
  },
  {
   "cell_type": "code",
   "execution_count": 50,
   "metadata": {
    "collapsed": false
   },
   "outputs": [
    {
     "name": "stdout",
     "output_type": "stream",
     "text": [
      "    Region  Total Area\n",
      "9  Melrose       1.129\n",
      "9    1.129\n",
      "Name: Total Area, dtype: float64\n"
     ]
    }
   ],
   "source": [
    "valrow = mergedtable.loc[mergedtable['Region']=='Melrose'] # using loc() returns index item, using loc[] returns data\n",
    "somval = valrow.loc[:,'Total Area']\n",
    "print(valrow)\n",
    "print(somval)"
   ]
  },
  {
   "cell_type": "code",
   "execution_count": 58,
   "metadata": {
    "collapsed": false
   },
   "outputs": [
    {
     "name": "stdout",
     "output_type": "stream",
     "text": [
      "9    6.129\n",
      "Name: Total Area, dtype: float64\n",
      "[ 6.129]\n"
     ]
    }
   ],
   "source": [
    "print(somval + 5)\n",
    "print(somval.values + 5)"
   ]
  },
  {
   "cell_type": "code",
   "execution_count": null,
   "metadata": {
    "collapsed": true
   },
   "outputs": [],
   "source": [
    "# trying to find average area of community garden based on neighborhood\n",
    "avg_sz = []\n",
    "for dist in mergedtable['Region']:\n",
    "    x = cg_per[dist]\n",
    "    y = mergedtable.loc[mergedtable['Region'] == dist]\n",
    "    z = y['Total Area'].sum()\n",
    "    \n",
    "    "
   ]
  }
 ],
 "metadata": {
  "anaconda-cloud": {},
  "kernelspec": {
   "display_name": "Python [conda root]",
   "language": "python",
   "name": "conda-root-py"
  },
  "language_info": {
   "codemirror_mode": {
    "name": "ipython",
    "version": 3
   },
   "file_extension": ".py",
   "mimetype": "text/x-python",
   "name": "python",
   "nbconvert_exporter": "python",
   "pygments_lexer": "ipython3",
   "version": "3.5.2"
  }
 },
 "nbformat": 4,
 "nbformat_minor": 2
}
